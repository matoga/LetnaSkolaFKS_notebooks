{
 "cells": [
  {
   "cell_type": "markdown",
   "metadata": {},
   "source": [
    "## Math kniznica\n",
    "\n",
    "Python3 obsahuje mnoho ďalších funkcií, ktoré bývaju usporiadané v takzvaných knižniciach. My si ukážeme ako používať funkcie z matematickej knižnice `math`. V prvom rade však musíme knižnicu načítať spostením nasledujúceho príkazu:"
   ]
  },
  {
   "cell_type": "code",
   "execution_count": 4,
   "metadata": {},
   "outputs": [],
   "source": [
    "# tento prikaz importne kniznicu math, staci ho zbehnut raz a potom v celom notebooku bude kniznica nacitana\n",
    "import math"
   ]
  },
  {
   "cell_type": "markdown",
   "metadata": {},
   "source": [
    "Teraz môžeme ku funkciam z tejto knižnice pristupovať nasledovne:"
   ]
  },
  {
   "cell_type": "code",
   "execution_count": 5,
   "metadata": {},
   "outputs": [
    {
     "data": {
      "text/plain": [
       "3.141592653589793"
      ]
     },
     "execution_count": 5,
     "metadata": {},
     "output_type": "execute_result"
    }
   ],
   "source": [
    "math.pi"
   ]
  },
  {
   "cell_type": "code",
   "execution_count": 7,
   "metadata": {},
   "outputs": [
    {
     "data": {
      "text/plain": [
       "1.0"
      ]
     },
     "execution_count": 7,
     "metadata": {},
     "output_type": "execute_result"
    }
   ],
   "source": [
    "math.sin(math.pi/2) # sin(pi/2) = 1"
   ]
  },
  {
   "cell_type": "markdown",
   "metadata": {},
   "source": [
    "Taktiež môžeme tieto funkcie používať v programe, ako sme boli doteraz zvyknutý s inými funkciami:"
   ]
  },
  {
   "cell_type": "code",
   "execution_count": 31,
   "metadata": {},
   "outputs": [
    {
     "name": "stdout",
     "output_type": "stream",
     "text": [
      "0.0 0.0\n",
      "0.1 0.09983341664682815\n",
      "0.2 0.19866933079506122\n",
      "0.3 0.29552020666133955\n",
      "0.4 0.3894183423086505\n",
      "0.5 0.479425538604203\n",
      "0.6 0.5646424733950354\n",
      "0.7 0.644217687237691\n",
      "0.8 0.7173560908995228\n",
      "0.9 0.7833269096274833\n",
      "1.0 0.8414709848078965\n"
     ]
    }
   ],
   "source": [
    "# Tento program vytvorí tabuľku funkcie od 0 po 1 s krokom 0.1\n",
    "for i in range(11):\n",
    "    x = i/10 \n",
    "    print(x, math.sin(x))"
   ]
  },
  {
   "cell_type": "markdown",
   "metadata": {},
   "source": [
    "Celý zoznam funkcií sa dá nájsť:\n",
    "- buď tu s popismi https://docs.python.org/3/library/math.html\n",
    "- alebo napríklad tu prehľadne: https://www.programiz.com/python-programming/modules/math"
   ]
  },
  {
   "cell_type": "markdown",
   "metadata": {},
   "source": [
    "## Úloha:\n",
    "\n",
    "Pozrite si zoznam funkcií, vyberte si nejakú matematickú a vypíšte tabuľku jej hodnôt od -5 po 5 s krokom 0.2."
   ]
  },
  {
   "cell_type": "code",
   "execution_count": 33,
   "metadata": {},
   "outputs": [],
   "source": [
    "# tu bude vas kod\n"
   ]
  },
  {
   "cell_type": "markdown",
   "metadata": {},
   "source": [
    "## Kreslenie grafov\n",
    "\n",
    "Na kreslenie grafov musíme najskôr importnuť knižnicu matplotlib. "
   ]
  },
  {
   "cell_type": "code",
   "execution_count": 1,
   "metadata": {},
   "outputs": [],
   "source": [
    "# kniznica matplotlib sa importuje trochu inak, pouzivat ju treba pomocou skratky \"plt\"\n",
    "from matplotlib import pyplot as plt"
   ]
  },
  {
   "cell_type": "markdown",
   "metadata": {},
   "source": [
    "Prvý príkaz ktorý použijeme je `plt.plot()`. Tento príkaz vykreslí čiaru medzi zadanými bodmi. Polohy bodov mu pošleme ako dva listy: prvý list bude obsahovať všetky x-ové súradnice a druhý všetky y-ové"
   ]
  },
  {
   "cell_type": "code",
   "execution_count": 13,
   "metadata": {},
   "outputs": [
    {
     "data": {
      "text/plain": [
       "[<matplotlib.lines.Line2D at 0x10fbbac88>]"
      ]
     },
     "execution_count": 13,
     "metadata": {},
     "output_type": "execute_result"
    },
    {
     "data": {
      "image/png": "[encoded data removed]",
      "text/plain": [
       "<matplotlib.figure.Figure at 0x10fc1aa90>"
      ]
     },
     "metadata": {},
     "output_type": "display_data"
    }
   ],
   "source": [
    "plt.plot([0,1,2,3], [0,1,4,9])"
   ]
  },
  {
   "cell_type": "markdown",
   "metadata": {},
   "source": [
    "## Úloha (nepovinná)\n",
    "\n",
    "Upravte príkaz dole tak, aby nakreslil štandadný domček (taký ako viete nakresliť jedným ťahom)."
   ]
  },
  {
   "cell_type": "code",
   "execution_count": 25,
   "metadata": {},
   "outputs": [
    {
     "data": {
      "text/plain": [
       "[<matplotlib.lines.Line2D at 0x11104bba8>]"
      ]
     },
     "execution_count": 25,
     "metadata": {},
     "output_type": "execute_result"
    },
    {
     "data": {
      "image/png": "[encoded data removed]",
      "text/plain": [
       "<matplotlib.figure.Figure at 0x110e060f0>"
      ]
     },
     "metadata": {},
     "output_type": "display_data"
    }
   ],
   "source": [
    "\n",
    "plt.plot([0,1,0,0.5,1,1], [0,1,1,1.5,1,0])"
   ]
  },
  {
   "cell_type": "markdown",
   "metadata": {},
   "source": [
    "## Úloha:\n",
    "\n",
    "Zoberte vaše riešenie dvojhlavého tanku a upravte ho tak, že nakreslí graf polohy tanku v závislosti od toho, koľkatý výstrel tak spravil."
   ]
  },
  {
   "cell_type": "code",
   "execution_count": 11,
   "metadata": {},
   "outputs": [],
   "source": [
    "# tu dajte svoje riešenie\n",
    "\n",
    "\n",
    "\n"
   ]
  },
  {
   "cell_type": "markdown",
   "metadata": {},
   "source": [
    "## Optional kurz o numpy\n",
    "\n",
    "Numpy je knižnica, ktorá sa používa na programovanie reálnej fyziky. Obsahuje takmer všetko, čo človek potrebuje ku práci s numerikou na počítači, najmä:\n",
    "- všetky matematické funkcie (čiže netreba importovať math)\n",
    "- vylepšené listy na numeriku (volajú sa numpy arrays)\n",
    "- vektorizáciu\n",
    "- a mnoho ďalšieho...\n",
    "\n",
    "Tu sa pozrieme na nejaké základy tejto knižnice"
   ]
  },
  {
   "cell_type": "code",
   "execution_count": 34,
   "metadata": {},
   "outputs": [],
   "source": [
    "# tento príkaz importne kniznicu numpy a nazve ju np, takze vsetky funkcie sú prístupné pod \"np\"\n",
    "import numpy as np"
   ]
  },
  {
   "cell_type": "code",
   "execution_count": 36,
   "metadata": {},
   "outputs": [
    {
     "data": {
      "text/plain": [
       "1.0"
      ]
     },
     "execution_count": 36,
     "metadata": {},
     "output_type": "execute_result"
    }
   ],
   "source": [
    "# priklad z minula\n",
    "np.sin(np.pi/2)"
   ]
  },
  {
   "cell_type": "code",
   "execution_count": 37,
   "metadata": {},
   "outputs": [
    {
     "data": {
      "text/plain": [
       "3.0"
      ]
     },
     "execution_count": 37,
     "metadata": {},
     "output_type": "execute_result"
    }
   ],
   "source": [
    "np.log10(1000)"
   ]
  },
  {
   "cell_type": "markdown",
   "metadata": {},
   "source": [
    "Numpy polia (numpy arrays) sa dajú vytvoriť z bežných polí nasledujúcim príkazom:"
   ]
  },
  {
   "cell_type": "code",
   "execution_count": 38,
   "metadata": {},
   "outputs": [],
   "source": [
    "# najskor zadefinujeme bezny list\n",
    "klasicky = [3,2,1]\n",
    "\n",
    "# teraz vytvorime numpy array\n",
    "nove = np.array(klasicky)"
   ]
  },
  {
   "cell_type": "code",
   "execution_count": 39,
   "metadata": {},
   "outputs": [
    {
     "name": "stdout",
     "output_type": "stream",
     "text": [
      "[3 2 1]\n"
     ]
    }
   ],
   "source": [
    "print(nove)"
   ]
  },
  {
   "cell_type": "code",
   "execution_count": 41,
   "metadata": {},
   "outputs": [
    {
     "data": {
      "text/plain": [
       "3"
      ]
     },
     "execution_count": 41,
     "metadata": {},
     "output_type": "execute_result"
    }
   ],
   "source": [
    "#indexovanie funguje ako po starom\n",
    "nove[0]"
   ]
  },
  {
   "cell_type": "markdown",
   "metadata": {},
   "source": [
    "Druhou možnosťou je použiť numpy funkcie. Jednou z nich je `np.arange()`, čo je priama alternatíva ku funkcii `range`. Do tejto funkcie však môžeme dať až tri vstupy: \n",
    "1. začiatok (rovnako ako minule)\n",
    "2. koniec (rovnako ako minule)\n",
    "3. krok "
   ]
  },
  {
   "cell_type": "code",
   "execution_count": 49,
   "metadata": {},
   "outputs": [
    {
     "data": {
      "text/plain": [
       "array([-3. , -2.5, -2. , -1.5, -1. , -0.5,  0. ,  0.5,  1. ,  1.5,  2. ,\n",
       "        2.5])"
      ]
     },
     "execution_count": 49,
     "metadata": {},
     "output_type": "execute_result"
    }
   ],
   "source": [
    "# tu je zaciatok = -3, koniec = 3, krok = 0.5\n",
    "np.arange(-3, 3, 0.5)"
   ]
  },
  {
   "cell_type": "markdown",
   "metadata": {},
   "source": [
    "Pohrajte sa s hodnotami kroku, začiatka a konca."
   ]
  },
  {
   "cell_type": "markdown",
   "metadata": {},
   "source": [
    "Načo je to dobré? Kôli takzvanej vektorizácii. \n",
    "\n",
    "Predstavme si, že chceme porátať sínus z každého čísla, ktoré máme uložené v poli. Klasicky by sme to museli robiť `for`-om ale v numpy s numpy arraymi to ide aj takto:\n"
   ]
  },
  {
   "cell_type": "code",
   "execution_count": 51,
   "metadata": {},
   "outputs": [
    {
     "name": "stdout",
     "output_type": "stream",
     "text": [
      "[0.14112001 0.90929743 0.84147098]\n"
     ]
    }
   ],
   "source": [
    "print(np.sin(nove))"
   ]
  },
  {
   "cell_type": "markdown",
   "metadata": {},
   "source": [
    "Toto je veľmi užitočné na kreslenie grafov. \n",
    "Predtavme si, že chceme vykresliť funkciu sin(x). Na to potrebujeme vytvoriť pole x-ových a y-ových hodnôt, pričom y-ové však teraz môžeme získať jednoducho ako `np.sin(x-ove hodnoty)`"
   ]
  },
  {
   "cell_type": "code",
   "execution_count": 56,
   "metadata": {},
   "outputs": [
    {
     "data": {
      "text/plain": [
       "[<matplotlib.lines.Line2D at 0x11115deb8>]"
      ]
     },
     "execution_count": 56,
     "metadata": {},
     "output_type": "execute_result"
    },
    {
     "data": {
      "image/png": "[encoded data removed]",
      "text/plain": [
       "<matplotlib.figure.Figure at 0x1111e2208>"
      ]
     },
     "metadata": {},
     "output_type": "display_data"
    }
   ],
   "source": [
    "# vytvori x-ove hodnoty\n",
    "X = np.arange(-3,3,0.1)\n",
    "\n",
    "# a teraz aplikujeme na kazdu z nich sinus a vysledok ulozime do Y\n",
    "Y = np.sin(X)\n",
    "\n",
    "# vysledok vykreslime\n",
    "plt.plot(X,Y)"
   ]
  },
  {
   "cell_type": "markdown",
   "metadata": {},
   "source": [
    "## Úloha:\n",
    "\n",
    "Vykreslite graf nejakej vami zvolenej matematickej funkcie. \n",
    "Funkcie môžete vyberať odtiaľto: https://docs.scipy.org/doc/numpy-1.13.0/reference/routines.math.html (Ak si neviete vybrať, skúste ľubovolnú z Hyperbolic functions)"
   ]
  },
  {
   "cell_type": "code",
   "execution_count": 57,
   "metadata": {},
   "outputs": [],
   "source": [
    "# vas kod"
   ]
  },
  {
   "cell_type": "code",
   "execution_count": null,
   "metadata": {},
   "outputs": [],
   "source": []
  }
 ],
 "metadata": {
  "kernelspec": {
   "display_name": "Python 3",
   "language": "python",
   "name": "python3"
  },
  "language_info": {
   "codemirror_mode": {
    "name": "ipython",
    "version": 3
   },
   "file_extension": ".py",
   "mimetype": "text/x-python",
   "name": "python",
   "nbconvert_exporter": "python",
   "pygments_lexer": "ipython3",
   "version": "3.6.5"
  }
 },
 "nbformat": 4,
 "nbformat_minor": 2
}
