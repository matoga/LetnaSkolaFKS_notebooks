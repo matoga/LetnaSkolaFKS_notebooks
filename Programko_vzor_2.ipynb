{
 "cells": [
  {
   "cell_type": "markdown",
   "metadata": {},
   "source": [
    "## Úloha 0\n",
    "### Snellov zákon\n",
    "\n",
    "Plavčík ktorý stojí vo vzdialenosti $h1=20$ m od brehu  uvídí topiaceho sa cloveka vzdialeného $h_2=30$ metrov od brehu v smere kolmom na breh a  $l=40$ metrov  pozdĺž brehu.\n",
    "Po súši vie utekať rýchlosťou 5 m/s a plávať rýchlosťou 1 m/s.\n",
    "Nájdite trajektóriu ktorá mu bude trvať najkratší čas.\n",
    "Overte že pre nu platí snellov zákon $$\\frac{sin(alpha)}{sin(\\beta)}=\\frac{v_2}{v_1}.$$\n",
    "\n",
    "Hint: Plavčík sa može rozhodnúť vôjsť do vody hocikde na brehu. Označme x vzdialenosť bodu na brehu ktorý je najbližšie ku plavčikovi po bod kde vojde do vody. \n",
    "Vyskúšajte vela roznych hodnôt $x$  od 0 po $l=40$ (FOR CYKLUS) a spocítajte čas za ktorý plavčík prejde tieto trajektórie. (tento cas is ukladajte do nejakého poľa (listu))\n",
    "Následne druhým for cyklom zistite ktorá z hodnôt je najmenšia. Zistite, aká poloha x je prislúcha.\n",
    "Aby bol splnený snellov zákon, musí platiť $$\\frac{\\frac{x}{\\sqrt(x^2+h1^2)}}{\\frac{(l-x)}{\\sqrt((l-x)^2+h2^2)}} = \\frac{v2}{v1}. $$\n",
    "\n"
   ]
  },
  {
   "cell_type": "code",
   "execution_count": 75,
   "metadata": {},
   "outputs": [],
   "source": [
    "#vase riesenie\n",
    "\n",
    "\n",
    "\n",
    "\n"
   ]
  },
  {
   "cell_type": "markdown",
   "metadata": {},
   "source": [
    "# Metóda sovietskej armády (Eulerova metóda)\n",
    "\n",
    "Vo fyzike často chceme spočítať trajektoŕiu nejakého pohybujúceho sa hmotného bodu. Vačšinou poznáme zrýchlenie. Existujú analytické metódy ako to urobiť.\n",
    "Avšak, takéto úlohy sa dajú riešiť veľmi priamočiaro numericky. \n",
    "Pred tým než sa pustíme do zrýchlení, začneme s jednoduchšiou úlohou. Predstavte si, že niekto vám prezradí, akou rýchlosťou a akým smerom sa pohnete v každom bode priestoru. Napríklad: ste unášaný v rieke. Hydrologovia zmerali smer a veľkosť rýchlosti toku rieky v každom jej bode.\n",
    "\n",
    "Otázka je ako bude vyzerať vaša dráha (trajektória). V závislosti na tom o akú rieku sa jedná, vašou trajektóriu može byť pomerne zložitá krivka. Ako teda riešiť takýto problém. Pokúsime sa vystačiť si s tým co už vieme riešiť a to: **rovnomerný priamočiary pohyb**. Náš pohyb budeme skúmať po malých časových úsekoch. V každom úseku sas pozrieme akú rýchlosťou a akýmn smerom sa budeme pohybovať a máličko sa pohneme. Potom znovu zkorigujeme veľkosť a smer rýchlosti a pohneme sa týmto smerom. Na priložených obrázkoch vidíme vykreslené smery rýchlosti pre veľa  bodov, a taktiež ilustráciu tohoto postupu\n",
    "<p>\n",
    "<img src=\"http://fks.sk/~fero/Screenshot1.png\" width=\"300\"  />\n",
    "<img src=\"http://fks.sk/~fero/Screenshot2.png\" width=\"300\"  />\n",
    "<img src=\"http://fks.sk/~fero/Screenshot3.png\" width=\"300\"  />\n",
    "<img src=\"http://fks.sk/~fero/Screenshot6.png\" width=\"300\"/>\n",
    "<img src=\"http://fks.sk/~fero/Screenshot7.png\" width=\"300\"/>\n",
    "<img src=\"http://fks.sk/~fero/Screenshot8.png\" width=\"300\"/>\n",
    "<img src=\"http://fks.sk/~fero/Screenshot9.png\" width=\"300\"/>\n",
    "<img src=\"http://fks.sk/~fero/Screenshot10.png\" width=\"300\"/>\n",
    "</p>\n",
    "\n",
    "*„Metóda sovietskej armády“ pretože topripomína techniku, akou Sovietska armáda došla až do Berlína: v každom meste, kam armáda dorazila, predvoj zapichol šípku s nápisom „Berlín“ a vojsko už vedelo, ktorým smerom sa pohnúť ďalej.*"
   ]
  },
  {
   "cell_type": "markdown",
   "metadata": {},
   "source": [
    "Matematicky, to co ideme robiť možme popísať nasledovne: zvolme si nejaký maličký čas za ktorý vykonáme jeden krok:\n",
    "napriklad $dt=0.00001$. V case nula začneme v bode $x_0$.\n",
    "Po vykonaní jedného kroku sa presunieme do bodu $$x_1=x_0 + v(x_0) dt.$$\n",
    "Po druhom kroku to bude $$x_2=x_1 + v(x_1) dt.$$\n",
    "a tak ďalej..."
   ]
  },
  {
   "cell_type": "markdown",
   "metadata": {},
   "source": [
    "## Asgardská rieka\n",
    "\n",
    "Majme rieku rýchlosť je $v=\\sqrt{x}$. Vypočítame ako ďaleko sa doplaví hmotný bod plaviaci sa v rieke za čas $t=10$. Jeho počiatočná poloha je $x=1.$\n",
    "\n"
   ]
  },
  {
   "cell_type": "code",
   "execution_count": 76,
   "metadata": {},
   "outputs": [
    {
     "name": "stdout",
     "output_type": "stream",
     "text": [
      "22.407339428815078\n"
     ]
    }
   ],
   "source": [
    "t=10 # cas plavby\n",
    "N=10000 # pocet krokov, cim viac tym lepsie: avsak cim viac krokov, tym bude pocitac dlhsie pocitat\n",
    "dt=t/N\n",
    "x=1\n",
    "def step(x):\n",
    "    return x+dt*z**(1/2)\n",
    "for i in range(N):\n",
    "    x=step(x)\n",
    "print(x)"
   ]
  },
  {
   "cell_type": "markdown",
   "metadata": {},
   "source": [
    "## Úloha 1\n",
    "Predstavte si že ste drevo unášané v rieke v ktorej rýchlosť vody je  $v=\\alpha x$.  $\\alpha$ je nejaká konštanta.\n",
    "Nech pre jednoduchosť nech $\\alpha=1$. Začínate v bode $x=1$. Kam sa dostanete po uplynuti času $t=10$.\n"
   ]
  },
  {
   "cell_type": "code",
   "execution_count": 77,
   "metadata": {},
   "outputs": [
    {
     "data": {
      "text/plain": [
       "4.582741814205577"
      ]
     },
     "execution_count": 77,
     "metadata": {},
     "output_type": "execute_result"
    }
   ],
   "source": [
    "#vase riesenie\n",
    "t=10\n",
    "N=10000\n",
    "dt=t/N\n",
    "x=1\n",
    "def step(x):\n",
    "    return x+dt/x\n",
    "for i in range(N):\n",
    "    x=step(x)\n",
    "(x)"
   ]
  },
  {
   "cell_type": "markdown",
   "metadata": {},
   "source": [
    "\n",
    "# Niekolko konceptov o pythone\n",
    "\n",
    "Pre tým nez budeme pokracovať, prejdeme si niekoľko nových príkazov, aby sme okrem počítania kam sa doplavíme vedeli aj nakresliť ako sme sa plavili"
   ]
  },
  {
   "cell_type": "markdown",
   "metadata": {},
   "source": [
    "## Math kniznica\n",
    "\n",
    "Python3 obsahuje mnoho ďalších funkcií, ktoré bývaju usporiadané v takzvaných knižniciach. My si ukážeme ako používať funkcie z matematickej knižnice `math`. V prvom rade však musíme knižnicu načítať spostením nasledujúceho príkazu:\n",
    "\n",
    "`import math`"
   ]
  },
  {
   "cell_type": "code",
   "execution_count": 78,
   "metadata": {},
   "outputs": [],
   "source": [
    "# tento prikaz nacita kniznicu math, staci ho zbehnut raz a potom v celom notebooku bude kniznica nacitana\n",
    "import math"
   ]
  },
  {
   "cell_type": "markdown",
   "metadata": {},
   "source": [
    "Teraz môžeme ku funkciam z tejto knižnice pristupovať nasledovne:"
   ]
  },
  {
   "cell_type": "code",
   "execution_count": 79,
   "metadata": {
    "scrolled": false
   },
   "outputs": [
    {
     "data": {
      "text/plain": [
       "3.141592653589793"
      ]
     },
     "execution_count": 79,
     "metadata": {},
     "output_type": "execute_result"
    }
   ],
   "source": [
    "math.pi"
   ]
  },
  {
   "cell_type": "code",
   "execution_count": 80,
   "metadata": {},
   "outputs": [
    {
     "data": {
      "text/plain": [
       "1.0"
      ]
     },
     "execution_count": 80,
     "metadata": {},
     "output_type": "execute_result"
    }
   ],
   "source": [
    "math.sin(math.pi/2) # sin(pi/2) = 1"
   ]
  },
  {
   "cell_type": "markdown",
   "metadata": {},
   "source": [
    "Taktiež môžeme tieto funkcie používať v programe, ako sme boli doteraz zvyknutý s inými funkciami:"
   ]
  },
  {
   "cell_type": "code",
   "execution_count": 81,
   "metadata": {},
   "outputs": [
    {
     "name": "stdout",
     "output_type": "stream",
     "text": [
      "0.0 0.0\n",
      "0.1 0.09983341664682815\n",
      "0.2 0.19866933079506122\n",
      "0.3 0.29552020666133955\n",
      "0.4 0.3894183423086505\n",
      "0.5 0.479425538604203\n",
      "0.6 0.5646424733950354\n",
      "0.7 0.644217687237691\n",
      "0.8 0.7173560908995228\n",
      "0.9 0.7833269096274834\n",
      "1.0 0.8414709848078965\n"
     ]
    }
   ],
   "source": [
    "# Tento program vytvorí tabuľku funkcie od 0 po 1 s krokom 0.1\n",
    "for i in range(11):\n",
    "    x = i/10 \n",
    "    print(x, math.sin(x))"
   ]
  },
  {
   "cell_type": "markdown",
   "metadata": {},
   "source": [
    "Celý zoznam funkcií sa dá nájsť:\n",
    "- buď tu s popismi https://docs.python.org/3/library/math.html\n",
    "- alebo napríklad tu prehľadne: https://www.programiz.com/python-programming/modules/math"
   ]
  },
  {
   "cell_type": "markdown",
   "metadata": {},
   "source": [
    "## Úloha:\n",
    "\n",
    "Pozrite si zoznam funkcií, vyberte si nejakú matematickú a vypíšte tabuľku jej hodnôt od -5 po 5 s krokom 0.2.\n",
    "Napríklad jedna z daľších funkcií z tejto knižnice je exponenciálna funkcia: `math.exp()`"
   ]
  },
  {
   "cell_type": "code",
   "execution_count": 82,
   "metadata": {},
   "outputs": [],
   "source": [
    "# tu bude vas kod\n"
   ]
  },
  {
   "cell_type": "markdown",
   "metadata": {},
   "source": [
    "## Kreslenie grafov\n",
    "\n",
    "Na kreslenie grafov musíme najskôr importnuť knižnicu matplotlib. "
   ]
  },
  {
   "cell_type": "code",
   "execution_count": 83,
   "metadata": {},
   "outputs": [],
   "source": [
    "# kniznica matplotlib sa importuje trochu inak, pouzivat ju treba pomocou skratky \"plt\"\n",
    "import matplotlib.pyplot as plt"
   ]
  },
  {
   "cell_type": "markdown",
   "metadata": {},
   "source": [
    "Prvý príkaz ktorý použijeme je `plt.plot()`. Tento príkaz vykreslí čiaru medzi zadanými bodmi. Polohy bodov mu pošleme ako dva listy: prvý list bude obsahovať všetky x-ové súradnice a druhý všetky y-ové"
   ]
  },
  {
   "cell_type": "code",
   "execution_count": 84,
   "metadata": {},
   "outputs": [
    {
     "data": {
      "text/plain": [
       "[<matplotlib.lines.Line2D at 0x7f12f889b048>]"
      ]
     },
     "execution_count": 84,
     "metadata": {},
     "output_type": "execute_result"
    },
    {
     "data": {
      "image/png": "[encoded data removed]",
      "text/plain": [
       "<Figure size 432x288 with 1 Axes>"
      ]
     },
     "metadata": {},
     "output_type": "display_data"
    }
   ],
   "source": [
    "plt.plot([0,1,2,3], [0,1,4,9])"
   ]
  },
  {
   "cell_type": "markdown",
   "metadata": {},
   "source": [
    "## Úloha (nepovinná)\n",
    "\n",
    "Upravte príkaz dole tak, aby nakreslil štandadný domček (taký ako viete nakresliť jedným ťahom)."
   ]
  },
  {
   "cell_type": "code",
   "execution_count": 85,
   "metadata": {},
   "outputs": [
    {
     "data": {
      "text/plain": [
       "[<matplotlib.lines.Line2D at 0x7f12f8c6b400>]"
      ]
     },
     "execution_count": 85,
     "metadata": {},
     "output_type": "execute_result"
    },
    {
     "data": {
      "image/png": "[encoded data removed]",
      "text/plain": [
       "<Figure size 432x288 with 1 Axes>"
      ]
     },
     "metadata": {},
     "output_type": "display_data"
    }
   ],
   "source": [
    "\n",
    "plt.plot([0,1,0,0.5,1,1], [0,1,1,1.5,1,0])"
   ]
  },
  {
   "cell_type": "markdown",
   "metadata": {},
   "source": [
    "## Úloha:\n",
    "\n",
    "Zoberte vaše riešenie dvojhlavého tanku a upravte ho tak, že nakreslí graf polohy tanku v závislosti od toho, koľkatý výstrel tak spravil."
   ]
  },
  {
   "cell_type": "code",
   "execution_count": 86,
   "metadata": {},
   "outputs": [],
   "source": [
    "# tu dajte svoje riešenie\n",
    "\n",
    "\n",
    "\n"
   ]
  },
  {
   "cell_type": "markdown",
   "metadata": {},
   "source": [
    "## Numpy\n",
    "\n",
    "Numpy (numerical python) je knižnica, ktorá sa používa na programovanie reálnej fyziky. Obsahuje takmer všetko, čo človek potrebuje ku práci s numerikou na počítači, najmä:\n",
    "- všetky matematické funkcie (čiže netreba importovať math)\n",
    "- vylepšené listy na numeriku (volajú sa numpy arrays)\n",
    "- vektorizáciu\n",
    "- a mnoho ďalšieho...\n",
    "\n",
    "Tu sa pozrieme na nejaké základy tejto knižnice"
   ]
  },
  {
   "cell_type": "code",
   "execution_count": 87,
   "metadata": {},
   "outputs": [],
   "source": [
    "# tento príkaz importne kniznicu numpy a nazve ju np, takze vsetky funkcie sú prístupné pod \"np\"\n",
    "import numpy as np"
   ]
  },
  {
   "cell_type": "code",
   "execution_count": 88,
   "metadata": {},
   "outputs": [
    {
     "data": {
      "text/plain": [
       "1.0"
      ]
     },
     "execution_count": 88,
     "metadata": {},
     "output_type": "execute_result"
    }
   ],
   "source": [
    "# priklad z minula\n",
    "np.sin(np.pi/2)"
   ]
  },
  {
   "cell_type": "code",
   "execution_count": 89,
   "metadata": {
    "scrolled": true
   },
   "outputs": [
    {
     "data": {
      "text/plain": [
       "3.0"
      ]
     },
     "execution_count": 89,
     "metadata": {},
     "output_type": "execute_result"
    }
   ],
   "source": [
    "np.log10(1000)"
   ]
  },
  {
   "cell_type": "markdown",
   "metadata": {},
   "source": [
    "Numpy polia (numpy arrays) sa dajú vytvoriť z bežných polí nasledujúcim príkazom:"
   ]
  },
  {
   "cell_type": "code",
   "execution_count": 90,
   "metadata": {},
   "outputs": [],
   "source": [
    "# najskor zadefinujeme bezny list\n",
    "klasicky = [3,2,1]\n",
    "\n",
    "# teraz vytvorime numpy array\n",
    "nove = np.array(klasicky)"
   ]
  },
  {
   "cell_type": "code",
   "execution_count": 91,
   "metadata": {},
   "outputs": [
    {
     "name": "stdout",
     "output_type": "stream",
     "text": [
      "[3 2 1]\n"
     ]
    }
   ],
   "source": [
    "print(nove)"
   ]
  },
  {
   "cell_type": "code",
   "execution_count": 92,
   "metadata": {
    "scrolled": true
   },
   "outputs": [
    {
     "data": {
      "text/plain": [
       "3"
      ]
     },
     "execution_count": 92,
     "metadata": {},
     "output_type": "execute_result"
    }
   ],
   "source": [
    "#indexovanie funguje ako po starom\n",
    "nove[0]"
   ]
  },
  {
   "cell_type": "markdown",
   "metadata": {},
   "source": [
    "Druhou možnosťou je použiť numpy funkcie. Jednou z nich je `np.arange()`, čo je priama alternatíva ku funkcii `range`. Do tejto funkcie však môžeme dať až tri vstupy: \n",
    "1. začiatok (rovnako ako minule)\n",
    "2. koniec (rovnako ako minule)\n",
    "3. krok "
   ]
  },
  {
   "cell_type": "code",
   "execution_count": 93,
   "metadata": {},
   "outputs": [
    {
     "data": {
      "text/plain": [
       "array([-3. , -2.5, -2. , -1.5, -1. , -0.5,  0. ,  0.5,  1. ,  1.5,  2. ,\n",
       "        2.5])"
      ]
     },
     "execution_count": 93,
     "metadata": {},
     "output_type": "execute_result"
    }
   ],
   "source": [
    "# tu je zaciatok = -3, koniec = 3, krok = 0.5\n",
    "np.arange(-3, 3, 0.5)"
   ]
  },
  {
   "cell_type": "markdown",
   "metadata": {},
   "source": [
    "Pohrajte sa s hodnotami kroku, začiatka a konca."
   ]
  },
  {
   "cell_type": "markdown",
   "metadata": {},
   "source": [
    "Načo je to dobré? Kôli takzvanej vektorizácii. \n",
    "\n",
    "Predstavme si, že chceme porátať sínus z každého čísla, ktoré máme uložené v poli. Klasicky by sme to museli robiť `for`-om ale v numpy s numpy arraymi to ide aj takto:\n"
   ]
  },
  {
   "cell_type": "code",
   "execution_count": 94,
   "metadata": {},
   "outputs": [
    {
     "name": "stdout",
     "output_type": "stream",
     "text": [
      "[0.14112001 0.90929743 0.84147098]\n"
     ]
    }
   ],
   "source": [
    "print(np.sin(nove))"
   ]
  },
  {
   "cell_type": "markdown",
   "metadata": {},
   "source": [
    "Toto je veľmi užitočné na kreslenie grafov. \n",
    "Predtavme si, že chceme vykresliť funkciu sin(x). Na to potrebujeme vytvoriť pole x-ových a y-ových hodnôt, pričom y-ové však teraz môžeme získať jednoducho ako `np.sin(x-ove hodnoty)`"
   ]
  },
  {
   "cell_type": "code",
   "execution_count": 95,
   "metadata": {
    "scrolled": true
   },
   "outputs": [
    {
     "data": {
      "text/plain": [
       "[<matplotlib.lines.Line2D at 0x7f12f8ccd7f0>]"
      ]
     },
     "execution_count": 95,
     "metadata": {},
     "output_type": "execute_result"
    },
    {
     "data": {
      "image/png": "[encoded data removed]",
      "text/plain": [
       "<Figure size 432x288 with 1 Axes>"
      ]
     },
     "metadata": {},
     "output_type": "display_data"
    }
   ],
   "source": [
    "# vytvori x-ove hodnoty\n",
    "X = np.arange(-3,3,0.1)\n",
    "\n",
    "# a teraz aplikujeme na kazdu z nich sinus a vysledok ulozime do Y\n",
    "Y = np.sin(X)\n",
    "\n",
    "# vysledok vykreslime\n",
    "plt.plot(X,Y)"
   ]
  },
  {
   "cell_type": "markdown",
   "metadata": {},
   "source": [
    "## Úloha:\n",
    "\n",
    "Vykreslite graf nejakej vami zvolenej matematickej funkcie. \n",
    "Funkcie môžete vyberať odtiaľto: https://docs.scipy.org/doc/numpy-1.13.0/reference/routines.math.html (Ak si neviete vybrať, skúste ľubovolnú z Hyperbolic functions)"
   ]
  },
  {
   "cell_type": "code",
   "execution_count": 96,
   "metadata": {},
   "outputs": [],
   "source": [
    "#vase riesenie"
   ]
  },
  {
   "cell_type": "markdown",
   "metadata": {},
   "source": [
    "# Vráťme sa k fyzike..."
   ]
  },
  {
   "cell_type": "markdown",
   "metadata": {},
   "source": [
    "Taktiež úloha odohrávajúca sa na vodnom toku, akurát v dvoch rozmeroch. Voda v rieke tečie ako $$\\vec{v}=(\\frac{y}{\\sqrt{x^2+y^2}} ; -\\frac{x}{\\sqrt{x^2+y^2}} )$$\n",
    "Nasleduje program ktorý vypočíta $t=10$ sekund pohybu pre ľubovolné počiatočné podmienky (poloha a začiatočná rýchlosť)"
   ]
  },
  {
   "cell_type": "code",
   "execution_count": 97,
   "metadata": {},
   "outputs": [
    {
     "data": {
      "text/plain": [
       "(1.4145652594052656, -0.002264262267747616)"
      ]
     },
     "execution_count": 97,
     "metadata": {},
     "output_type": "execute_result"
    }
   ],
   "source": [
    "#Vaše riesenie\n",
    "N=100000\n",
    "t=10\n",
    "x=1\n",
    "y=1\n",
    "\n",
    "dt=t/N\n",
    "def step(x,y):\n",
    "        return (x+y/((x**2+y**2)**(1/2))*dt,y+-x/((x**2+y**2)**(1/2))*dt)\n",
    "for i in range(N):\n",
    "    (x,y)=step(x,y)\n",
    "(x,y)"
   ]
  },
  {
   "cell_type": "markdown",
   "metadata": {},
   "source": [
    "Dvojica polôx $(x,y)$ ktorú sme získali nám veľa neprezradila: Omnoho názornejšie je vedieť celú trajektóriu. \n",
    "Pomocu predchádzajúceho príkladu si vysvetlíme ako sa dajú vykresliť grafy. Konkrétne vykreslíme graf polohy od času.\n",
    "Na to použijeme dve spomínané knižnice numpy a matplotlib (knižnica na vykreslovanie grafov). Počítaču povieme ze \n",
    "Celé co musíme urobiť je si postupne poukladať vsetky dvojice bodov (x,y) v ktorých sme sa nachádzali.\n",
    "Na to si zadeklarujem prádzne numpy pole pomocou `np.empty(N)`. To je v podstate pole dĺžky $N$ so samými nulami."
   ]
  },
  {
   "cell_type": "code",
   "execution_count": 98,
   "metadata": {},
   "outputs": [
    {
     "data": {
      "text/plain": [
       "[<matplotlib.lines.Line2D at 0x7f12f8a3a3c8>]"
      ]
     },
     "execution_count": 98,
     "metadata": {},
     "output_type": "execute_result"
    },
    {
     "data": {
      "image/png": "[encoded data removed]",
      "text/plain": [
       "<Figure size 432x288 with 1 Axes>"
      ]
     },
     "metadata": {},
     "output_type": "display_data"
    }
   ],
   "source": [
    "xn=np.empty(N) # toto vytvorí prázdne numpy pole\n",
    "yn=np.empty(N) # toto vytvorí prázdne numpy pole\n",
    "xn[0]=1\n",
    "yn[0]=1\n",
    "\n",
    "\n",
    "for i in range(1,N):\n",
    "    (xn[i],yn[i])=step(xn[i-1],yn[i-1])\n",
    "\n",
    "plt.plot(xn,yn)\n"
   ]
  },
  {
   "cell_type": "markdown",
   "metadata": {},
   "source": [
    "Vykreslite si niekolko daľších trajektorí  pre iný počiatok pohybu: $xn[0]$ a $yn[0]$."
   ]
  },
  {
   "cell_type": "markdown",
   "metadata": {},
   "source": [
    "## Úloha 2\n",
    "Ako bude vyzerať plavba v rieke ktorej  voda tečie ako $$\\vec{v}=(y^3 - 9 x;   x^3-9y)?$$\n",
    "Preskúmajte tento tok pre niekoľko odlišných štartovacích bodov."
   ]
  },
  {
   "cell_type": "code",
   "execution_count": 99,
   "metadata": {},
   "outputs": [],
   "source": [
    "#vase riesenie"
   ]
  },
  {
   "cell_type": "markdown",
   "metadata": {},
   "source": [
    " # Metóda sovietskej armády pre zadané zrýchlenie\n",
    " \n",
    "Štandardne máme vo fyzike zadanú nie rýchlosť v každom mieste, ale silu. Zo sily, vieme uz ľahko vyjadriť zrýchlenie ako $a=\\frac{F}{m}$.\n",
    "\n",
    "Ako sa numericky rieší takýto problém? Úplne rovnako ako sme postupovali doteraz, akurát náš trik zopadkujeme dva krát.\n",
    "Začneme v nejakem bode $xn[0]$ a okrem toho budeme mať aj nejaku počiatočnú rýchlosť $vn[0].$ V každom bode poznáme zrýchlenie $an(xn[0])$, ako funckiu polohy. Pripravíme si teda aj počiatočné zrýchlenie $an[0]$\n",
    "Iteračná schéma je nasledovná:\n",
    "\n",
    "- 1.krok: najskôr vypočítame  na základe rychlosti a predchádzajúcej polohy novú polohu; potom na základe zrýchlenie a starej rýchlosti vypočítame ako sa nám zmení rýchlosť. Nakoniec vypočítame zrýchlenie v novej polohe\n",
    "\n",
    "$$xn[1]=xn[0]+vn[0] dt$$\n",
    "$$vn[1]=vn[0]+an[0] dt$$\n",
    "$$an[1]=an(xn[1])     $$\n",
    "\n",
    " - 2.krok ...\n",
    "\n",
    " \n",
    " - ...\n",
    " - ...\n",
    " - (i+1). krok\n",
    "$$xn[i+1]=xn[i]+vn[i] dt$$\n",
    "$$vn[i+1]=vn[i]+an[i] dt$$\n",
    "$$an[i+1]=an(xn[i+1])$$\n",
    "\n",
    "\n",
    "\n",
    "\n",
    " "
   ]
  },
  {
   "cell_type": "markdown",
   "metadata": {},
   "source": [
    "### Vrh nahor v konštantnom gravitačnom poli\n",
    "Hodíme nahor projektil s počiatočnou výskou $y_vrh[0]=0$ a počiatočnou rýchlosťou $v_vrh[0]=50$ smerom nahor.\n",
    "Zrýchlenie je konštantné $g=10$ so smerom nadol."
   ]
  },
  {
   "cell_type": "code",
   "execution_count": 100,
   "metadata": {},
   "outputs": [
    {
     "data": {
      "text/plain": [
       "[<matplotlib.lines.Line2D at 0x7f12f8b8f518>]"
      ]
     },
     "execution_count": 100,
     "metadata": {},
     "output_type": "execute_result"
    },
    {
     "data": {
      "image/png": "[encoded data removed]",
      "text/plain": [
       "<Figure size 432x288 with 1 Axes>"
      ]
     },
     "metadata": {},
     "output_type": "display_data"
    }
   ],
   "source": [
    "N=10000\n",
    "t=10\n",
    "dt=t/N\n",
    "g=10\n",
    "\n",
    "yvrh=np.empty(N)\n",
    "vvrh=np.empty(N)\n",
    "yvrh[0]=0\n",
    "vvrh[0]=50\n",
    "def step(y,v):\n",
    "    return (y+v*dt,v-g*dt)\n",
    "for i in range(N-1):\n",
    "    (yvrh[i+1],vvrh[i+1])=step(yvrh[i],vvrh[i])\n",
    "plt.plot(np.arange(0,10,dt),yvrh)    \n"
   ]
  },
  {
   "cell_type": "markdown",
   "metadata": {},
   "source": [
    "## Úloha 3\n",
    "#### Hod nahor v gravitačnom poli\n",
    "Teleso hádžeme v gravitačnom poli zeme rovno nahor. Zrýchlenie ktoré naň pôsobí je $g=\\frac{G M_z }{r^2}$.\n",
    "Numericky nasimulujte vyhodenie telesa, ktoré má počiatočnú rýchlosť 10000 m/sa 11180 m/s a 12000m/s.\n",
    "\n",
    "Hlavný rozdiel oproti predchádzajúcej úlohe je v tom že zrýchlenie nie je konštantné ale mení sa v závislosti od výšky."
   ]
  },
  {
   "cell_type": "code",
   "execution_count": 101,
   "metadata": {},
   "outputs": [],
   "source": [
    "#konštanty\n",
    "G=6.67408e-11 #gravitacna konstanta\n",
    "M=5.972e24  #hmotnost zeme"
   ]
  },
  {
   "cell_type": "code",
   "execution_count": 102,
   "metadata": {},
   "outputs": [],
   "source": [
    "#vase riesenie\n"
   ]
  },
  {
   "cell_type": "markdown",
   "metadata": {},
   "source": [
    "## Úloha 3.1 Nepovinná\n",
    "### vzlietnutie rakety\n",
    "Raketa sa pohybuje na základe zákonu zachovania energie: nejakú hmotu vyvrhne za seba veľkou rýchlosťou (palivo) a na základe toho sa začne pohybovať opačným smerom\n",
    "V našom jednoduchom modeli raketa, M=20000, vyvrhne za seba kazdých 0.1 sekundy hmotný bod s hmotnosťou m=0.5 a rychlostou v=1000.\n",
    "Vykreslite graf vysky od casu."
   ]
  },
  {
   "cell_type": "markdown",
   "metadata": {},
   "source": [
    "## Úloha 4\n",
    "### Balisticka\n",
    "\n",
    "Nasimulujte sikmý vrh v gravitacnom poli zeme, a vykreslite trajektoriu.\n"
   ]
  },
  {
   "cell_type": "code",
   "execution_count": 103,
   "metadata": {},
   "outputs": [],
   "source": [
    "#Vaše riešenie\n"
   ]
  },
  {
   "cell_type": "markdown",
   "metadata": {},
   "source": [
    "## Úloha 4\n",
    "### Odporná balistická\n",
    "Nasimulujte šikmý vrh so zahrnutím odporu vzduchu v gravitacnom poli zeme, a vykreslite trajektoriu projektilu.\n",
    "Na teleso pôsobí odporová sila so smerom opačným ako je aktualny smer pohybu projektilu $${F}=-0.5 v^2$$\n"
   ]
  },
  {
   "cell_type": "code",
   "execution_count": 104,
   "metadata": {},
   "outputs": [],
   "source": [
    "#vase riesenie"
   ]
  },
  {
   "cell_type": "markdown",
   "metadata": {},
   "source": [
    "## Úloha 4.1 (Nepovinná)\n",
    "Zvolte si nejakú počiatočnú veľkosť rýchlosti, a zájdite uhol, pre ktorý projektil doletí najďalej.\n",
    "\n",
    "## Úloha 4.2 (Nepovinná)\n",
    "Preskúmajte ako tento uhol závisí od počiatočnej veľkosti rýchlosti"
   ]
  },
  {
   "cell_type": "code",
   "execution_count": 106,
   "metadata": {},
   "outputs": [],
   "source": [
    "# vase riesenie"
   ]
  }
 ],
 "metadata": {
  "kernelspec": {
   "display_name": "Python 3",
   "language": "python",
   "name": "python3"
  },
  "language_info": {
   "codemirror_mode": {
    "name": "ipython",
    "version": 3
   },
   "file_extension": ".py",
   "mimetype": "text/x-python",
   "name": "python",
   "nbconvert_exporter": "python",
   "pygments_lexer": "ipython3",
   "version": "3.6.5"
  }
 },
 "nbformat": 4,
 "nbformat_minor": 2
}
