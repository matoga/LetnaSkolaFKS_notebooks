{
 "cells": [
  {
   "cell_type": "markdown",
   "metadata": {},
   "source": [
    "## Úloha 1\n",
    "Predstavte si že plávate potrubím ktorého prierez sa so vzdialenosťou mení ako $S=\\frac{1}{z}$, kde $z$ je vzdialenosť. Rýchlosť vody v takomto potrubí je  $v=\\alpha z$ kde $\\alpha$ je nejaká konštanta.\n",
    "Nech pre jednoduchosť $\\alpha=1$. Začínate v bode $z=1$. Kam sa dostanete po uplynuti času $t=10$.\n"
   ]
  },
  {
   "cell_type": "code",
   "execution_count": 7,
   "metadata": {},
   "outputs": [
    {
     "data": {
      "text/plain": [
       "(1079.5420468938933, 118.5283996614055)"
      ]
     },
     "execution_count": 7,
     "metadata": {},
     "output_type": "execute_result"
    }
   ],
   "source": [
    "t=10\n",
    "N=10000\n",
    "dt=t/N\n",
    "z=1\n",
    "vz=0\n",
    "def step(z,vz):\n",
    "    return (z+vz*dt,vz+1/z)\n",
    "for i in range(N):\n",
    "    (z,vz)=step(z,vz)\n",
    "(z,vz)"
   ]
  },
  {
   "cell_type": "markdown",
   "metadata": {},
   "source": [
    "## Úloha 2\n",
    "Taktiež úloha odohrávajúca sa na vodnom toku, akurát v dvoch rozmeroch. voda v rieke tečie ako $$\\vec{v}=y \\hat{x} -x \\hat{y}$$\n",
    "Napíšte program ktorý popíše $t=10$ sekund pohybu pre ľubovolné počiatočné podmienky (poloha a začiatočná rýchlosť)"
   ]
  },
  {
   "cell_type": "code",
   "execution_count": 20,
   "metadata": {},
   "outputs": [
    {
     "data": {
      "text/plain": [
       "(-3248619692.873808,\n",
       " -1633938708.6925585,\n",
       " -109177324900.15114,\n",
       " 36105364426.05537)"
      ]
     },
     "execution_count": 20,
     "metadata": {},
     "output_type": "execute_result"
    }
   ],
   "source": [
    "N=10000\n",
    "t=1\n",
    "x=1\n",
    "y=1\n",
    "vx=0.01\n",
    "vy=0.01\n",
    "dt=t/N\n",
    "def step(x,y,vx,vy):\n",
    "    return (x+vx*dt,y+vy*dt,vx+0.1*y,vy-0.1*x)\n",
    "for i in range(N):\n",
    "    (x,y,vx,vy)=step(x,y,vx,vy)\n",
    "(x,y,vx,vy)"
   ]
  },
  {
   "cell_type": "markdown",
   "metadata": {},
   "source": [
    "# Grafy\n",
    "Pomocu predchádzajúceho príkladu si vysvetlíme ako sa dajú vykresliť grafy. Konkrétne vykreslíme graf polohy od času.\n",
    "Na to použijeme dve doteraz nepoužité knižnice numpy (numerical python) a matplotlib (knižnica na vykreslovanie grafov). Počítaču povieme ze chceme používať tieto knižnice pomocou\n",
    "\n",
    "´import numpy as np´"
   ]
  },
  {
   "cell_type": "code",
   "execution_count": 22,
   "metadata": {},
   "outputs": [
    {
     "data": {
      "image/png": "[encoded data removed]",
      "text/plain": [
       "<Figure size 432x288 with 1 Axes>"
      ]
     },
     "metadata": {},
     "output_type": "display_data"
    }
   ],
   "source": [
    "import numpy as np\n",
    "import matplotlib.pyplot as plt\n",
    "xn=np.empty(N)\n",
    "yn=np.empty(N)\n",
    "vx=np.empty(N)\n",
    "vy=np.empty(N)\n",
    "xn[0]=1\n",
    "yn[0]=1\n",
    "vx[0]=0\n",
    "vy[0]=0\n",
    "\n",
    "for i in range(1,N):\n",
    "    (xn[i],yn[i],vx[i],vy[i])=step(xn[i-1],yn[i-1],vx[i-1],vy[i-1])\n",
    "f1=plt.figure(1)\n",
    "plt.plot(xn,yn)\n",
    "plt.show()"
   ]
  },
  {
   "cell_type": "code",
   "execution_count": null,
   "metadata": {},
   "outputs": [],
   "source": []
  }
 ],
 "metadata": {
  "kernelspec": {
   "display_name": "Python 3",
   "language": "python",
   "name": "python3"
  },
  "language_info": {
   "codemirror_mode": {
    "name": "ipython",
    "version": 3
   },
   "file_extension": ".py",
   "mimetype": "text/x-python",
   "name": "python",
   "nbconvert_exporter": "python",
   "pygments_lexer": "ipython3",
   "version": "3.6.5"
  }
 },
 "nbformat": 4,
 "nbformat_minor": 2
}
