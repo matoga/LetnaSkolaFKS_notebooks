{
 "cells": [
  {
   "cell_type": "markdown",
   "metadata": {},
   "source": [
    "# Programovanie\n",
    "\n",
    "Letná škola FKS 2018\n",
    "\n",
    "Maťo Gažo, Fero Dráček\n",
    "(& vykradnuté materiály od Mateja Badina, Feriho Hermana, Kuba, Peťa, Jarných škôl FX a kade-tade po internete)\n",
    "\n",
    "V tomto kurze si ukážeme základy programovania a naučíme sa programovať matematiku a fyziku.\n",
    "Takéto vedomosti sú skvelé a budete vďaka nim: \n",
    "* vedieť efektívnejšie robiť domáce úlohy\n",
    "* kvalitnejšie riešiť seminárové a olympiádové príklady\n",
    "* lepšie rozumieť svetu (IT je dnes na trhu najrýchlejšie rozvíjajúcim sa odvetvím)\n",
    "\n",
    "Počítač je blbý a treba mu všetko povedať a vysvetliť. Komunikovať sa s ním dá na viacerých úrovniach, my budeme používať Python. Python (názov odvodený z Monty Python's Flying Circus) je všeobecný programovací jazyk, ktorým sa dajú vytvárať webové stránky ako aj robiť seriózne vedecké výpočty. To znamená, že naučiť sa ho nie je na škodu a možno vás raz bude živiť.\n",
    "\n",
    "Rozhranie, v ktorom píšeme kód, sa volá Jupyter Notebook. Je to prostredie navrhnuté tak, aby sa dalo programovať doslova v prehliadači a aby sa kód dal kúskovať. Pre zbehnutie kúskov programu stačí stlačiť Shift+Enter. \n",
    "\n"
   ]
  },
  {
   "cell_type": "markdown",
   "metadata": {},
   "source": [
    "# Dátové typy a operátory"
   ]
  },
  {
   "cell_type": "markdown",
   "metadata": {},
   "source": [
    "### Čísla"
   ]
  },
  {
   "cell_type": "markdown",
   "metadata": {},
   "source": [
    " podľa očakávaní, vracia trojku"
   ]
  },
  {
   "cell_type": "code",
   "execution_count": 1,
   "metadata": {},
   "outputs": [
    {
     "data": {
      "text/plain": [
       "3"
      ]
     },
     "execution_count": 1,
     "metadata": {},
     "output_type": "execute_result"
    }
   ],
   "source": [
    "3"
   ]
  },
  {
   "cell_type": "code",
   "execution_count": 2,
   "metadata": {},
   "outputs": [
    {
     "data": {
      "text/plain": [
       "5"
      ]
     },
     "execution_count": 2,
     "metadata": {},
     "output_type": "execute_result"
    }
   ],
   "source": [
    "2+3 # scitanie"
   ]
  },
  {
   "cell_type": "code",
   "execution_count": 3,
   "metadata": {},
   "outputs": [
    {
     "data": {
      "text/plain": [
       "4"
      ]
     },
     "execution_count": 3,
     "metadata": {},
     "output_type": "execute_result"
    }
   ],
   "source": [
    "6-2 # odcitanie"
   ]
  },
  {
   "cell_type": "code",
   "execution_count": 4,
   "metadata": {},
   "outputs": [
    {
     "data": {
      "text/plain": [
       "20"
      ]
     },
     "execution_count": 4,
     "metadata": {},
     "output_type": "execute_result"
    }
   ],
   "source": [
    "10*2 # nasobenie"
   ]
  },
  {
   "cell_type": "code",
   "execution_count": 5,
   "metadata": {},
   "outputs": [
    {
     "data": {
      "text/plain": [
       "7.0"
      ]
     },
     "execution_count": 5,
     "metadata": {},
     "output_type": "execute_result"
    }
   ],
   "source": [
    "35/5 # delenie"
   ]
  },
  {
   "cell_type": "code",
   "execution_count": 6,
   "metadata": {},
   "outputs": [
    {
     "data": {
      "text/plain": [
       "1"
      ]
     },
     "execution_count": 6,
     "metadata": {},
     "output_type": "execute_result"
    }
   ],
   "source": [
    "5//3 # celociselne delenie TODO je toto treba?"
   ]
  },
  {
   "cell_type": "code",
   "execution_count": 7,
   "metadata": {},
   "outputs": [
    {
     "data": {
      "text/plain": [
       "1"
      ]
     },
     "execution_count": 7,
     "metadata": {},
     "output_type": "execute_result"
    }
   ],
   "source": [
    "7%3 # modulo"
   ]
  },
  {
   "cell_type": "code",
   "execution_count": 8,
   "metadata": {},
   "outputs": [
    {
     "data": {
      "text/plain": [
       "8"
      ]
     },
     "execution_count": 8,
     "metadata": {},
     "output_type": "execute_result"
    }
   ],
   "source": [
    "2**3 # umocnovanie"
   ]
  },
  {
   "cell_type": "code",
   "execution_count": 9,
   "metadata": {},
   "outputs": [
    {
     "data": {
      "text/plain": [
       "20"
      ]
     },
     "execution_count": 9,
     "metadata": {},
     "output_type": "execute_result"
    }
   ],
   "source": [
    "4 * (2 + 3) # poradie dodrzane"
   ]
  },
  {
   "cell_type": "markdown",
   "metadata": {},
   "source": [
    "### Logické výrazy"
   ]
  },
  {
   "cell_type": "code",
   "execution_count": 12,
   "metadata": {},
   "outputs": [
    {
     "data": {
      "text/plain": [
       "True"
      ]
     },
     "execution_count": 12,
     "metadata": {},
     "output_type": "execute_result"
    }
   ],
   "source": [
    "1 == 1 # logicka rovnost"
   ]
  },
  {
   "cell_type": "code",
   "execution_count": 13,
   "metadata": {},
   "outputs": [
    {
     "data": {
      "text/plain": [
       "True"
      ]
     },
     "execution_count": 13,
     "metadata": {},
     "output_type": "execute_result"
    }
   ],
   "source": [
    "2 != 3 # logicka nerovnost"
   ]
  },
  {
   "cell_type": "code",
   "execution_count": 14,
   "metadata": {},
   "outputs": [
    {
     "data": {
      "text/plain": [
       "True"
      ]
     },
     "execution_count": 14,
     "metadata": {},
     "output_type": "execute_result"
    }
   ],
   "source": [
    "1 < 10"
   ]
  },
  {
   "cell_type": "code",
   "execution_count": 15,
   "metadata": {},
   "outputs": [
    {
     "data": {
      "text/plain": [
       "False"
      ]
     },
     "execution_count": 15,
     "metadata": {},
     "output_type": "execute_result"
    }
   ],
   "source": [
    "1 > 10"
   ]
  },
  {
   "cell_type": "code",
   "execution_count": 16,
   "metadata": {},
   "outputs": [
    {
     "data": {
      "text/plain": [
       "True"
      ]
     },
     "execution_count": 16,
     "metadata": {},
     "output_type": "execute_result"
    }
   ],
   "source": [
    "2 <= 2"
   ]
  },
  {
   "cell_type": "markdown",
   "metadata": {},
   "source": [
    "# Premenné"
   ]
  },
  {
   "cell_type": "code",
   "execution_count": 22,
   "metadata": {},
   "outputs": [
    {
     "name": "stdout",
     "output_type": "stream",
     "text": [
      "Ja som Python. Teší ma.\n"
     ]
    }
   ],
   "source": [
    "print('Ja som Python. Teší ma.')"
   ]
  },
  {
   "cell_type": "code",
   "execution_count": 23,
   "metadata": {},
   "outputs": [
    {
     "name": "stdout",
     "output_type": "stream",
     "text": [
      "Napíš, koľko máš rokov: 22\n"
     ]
    }
   ],
   "source": [
    "# rucne vkladanie stringovej premennej\n",
    "moj_vek = input(\"Napíš, koľko máš rokov: \")"
   ]
  },
  {
   "cell_type": "code",
   "execution_count": 24,
   "metadata": {},
   "outputs": [
    {
     "name": "stdout",
     "output_type": "stream",
     "text": [
      "22\n"
     ]
    }
   ],
   "source": [
    "print(moj_vek)"
   ]
  },
  {
   "cell_type": "markdown",
   "metadata": {},
   "source": [
    "Toto je premenná.\n",
    "\n",
    "Po stlačení Shift+Enter program v okienku zbehne a premenná sa uloží do pamäte (RAMky, všetko sa deje na RAMke)."
   ]
  },
  {
   "cell_type": "code",
   "execution_count": 25,
   "metadata": {
    "collapsed": true
   },
   "outputs": [],
   "source": [
    "a = 2"
   ]
  },
  {
   "cell_type": "markdown",
   "metadata": {},
   "source": [
    "Teraz s ňou možno pracovať ako s bežným číslom."
   ]
  },
  {
   "cell_type": "code",
   "execution_count": 26,
   "metadata": {},
   "outputs": [
    {
     "data": {
      "text/plain": [
       "4"
      ]
     },
     "execution_count": 26,
     "metadata": {},
     "output_type": "execute_result"
    }
   ],
   "source": [
    "2 * a"
   ]
  },
  {
   "cell_type": "code",
   "execution_count": 27,
   "metadata": {},
   "outputs": [
    {
     "data": {
      "text/plain": [
       "4"
      ]
     },
     "execution_count": 27,
     "metadata": {},
     "output_type": "execute_result"
    }
   ],
   "source": [
    "a + a"
   ]
  },
  {
   "cell_type": "code",
   "execution_count": 28,
   "metadata": {},
   "outputs": [
    {
     "data": {
      "text/plain": [
       "6"
      ]
     },
     "execution_count": 28,
     "metadata": {},
     "output_type": "execute_result"
    }
   ],
   "source": [
    "a + a*a"
   ]
  },
  {
   "cell_type": "markdown",
   "metadata": {},
   "source": [
    "Možno ju aj umocniť."
   ]
  },
  {
   "cell_type": "code",
   "execution_count": 29,
   "metadata": {},
   "outputs": [
    {
     "data": {
      "text/plain": [
       "8"
      ]
     },
     "execution_count": 29,
     "metadata": {},
     "output_type": "execute_result"
    }
   ],
   "source": [
    "a**3"
   ]
  },
  {
   "cell_type": "markdown",
   "metadata": {},
   "source": [
    "Premenná je typu `integer` (skrátene `int`), čo znamená celé číslo."
   ]
  },
  {
   "cell_type": "code",
   "execution_count": 30,
   "metadata": {},
   "outputs": [
    {
     "data": {
      "text/plain": [
       "int"
      ]
     },
     "execution_count": 30,
     "metadata": {},
     "output_type": "execute_result"
    }
   ],
   "source": [
    "type(a)"
   ]
  },
  {
   "cell_type": "markdown",
   "metadata": {},
   "source": [
    "Pridajme druhú premennú."
   ]
  },
  {
   "cell_type": "code",
   "execution_count": 31,
   "metadata": {
    "collapsed": true
   },
   "outputs": [],
   "source": [
    "b = 5"
   ]
  },
  {
   "cell_type": "markdown",
   "metadata": {},
   "source": [
    "Nasledovné výpočty dopadnú podľa očakávaní."
   ]
  },
  {
   "cell_type": "code",
   "execution_count": 32,
   "metadata": {},
   "outputs": [
    {
     "data": {
      "text/plain": [
       "7"
      ]
     },
     "execution_count": 32,
     "metadata": {},
     "output_type": "execute_result"
    }
   ],
   "source": [
    "a + b"
   ]
  },
  {
   "cell_type": "code",
   "execution_count": 33,
   "metadata": {},
   "outputs": [
    {
     "data": {
      "text/plain": [
       "10"
      ]
     },
     "execution_count": 33,
     "metadata": {},
     "output_type": "execute_result"
    }
   ],
   "source": [
    "a * b"
   ]
  },
  {
   "cell_type": "code",
   "execution_count": 34,
   "metadata": {},
   "outputs": [
    {
     "data": {
      "text/plain": [
       "25"
      ]
     },
     "execution_count": 34,
     "metadata": {},
     "output_type": "execute_result"
    }
   ],
   "source": [
    "b**a"
   ]
  },
  {
   "cell_type": "markdown",
   "metadata": {},
   "source": [
    "Reálne čísla môžeme zobrazovať aj vo vedeckej forme: $2.3\\times 10^{-3}$."
   ]
  },
  {
   "cell_type": "code",
   "execution_count": 35,
   "metadata": {},
   "outputs": [],
   "source": [
    "d = 2.3e-3"
   ]
  },
  {
   "cell_type": "markdown",
   "metadata": {},
   "source": [
    "# ---------------------------------------------------------------------------"
   ]
  },
  {
   "cell_type": "markdown",
   "metadata": {},
   "source": [
    "Teraz sa môžeme posunúť k niečomu viac zmysluplnejšiemu. Môžeme začať počítaču zadávať úlohy, ktoré by sme už sami nezvládli !\n",
    "\n",
    "# Funkcie\n",
    "\n",
    "Spravme si jednoduchú funkciu, ktorá za nás sčíta dve čísla, aby sme sa s tým už nemuseli trápiť my:"
   ]
  },
  {
   "cell_type": "code",
   "execution_count": 9,
   "metadata": {},
   "outputs": [],
   "source": [
    "def scitaj(a, b):\n",
    "    print(\"Číslo a je {} a číslo b je {}\".format(a, b))\n",
    "    return a + b"
   ]
  },
  {
   "cell_type": "code",
   "execution_count": 10,
   "metadata": {},
   "outputs": [
    {
     "name": "stdout",
     "output_type": "stream",
     "text": [
      "Číslo a je 10 a číslo b je 12\n"
     ]
    },
    {
     "data": {
      "text/plain": [
       "22"
      ]
     },
     "execution_count": 10,
     "metadata": {},
     "output_type": "execute_result"
    }
   ],
   "source": [
    "scitaj(10, 12) # vypise vetu a vrati sucet"
   ]
  },
  {
   "cell_type": "markdown",
   "metadata": {},
   "source": [
    "Funkcia funguje na celých aj reálnych číslach."
   ]
  },
  {
   "cell_type": "code",
   "execution_count": 11,
   "metadata": {},
   "outputs": [
    {
     "name": "stdout",
     "output_type": "stream",
     "text": [
      "Číslo a je 1.23 a číslo b je 4.53\n"
     ]
    },
    {
     "data": {
      "text/plain": [
       "5.76"
      ]
     },
     "execution_count": 11,
     "metadata": {},
     "output_type": "execute_result"
    }
   ],
   "source": [
    "scitaj(a=1.23, b=4.53) # da sa aj takto pisat"
   ]
  },
  {
   "cell_type": "markdown",
   "metadata": {},
   "source": [
    "Funguje dokonca aj na stringoch"
   ]
  },
  {
   "cell_type": "code",
   "execution_count": 12,
   "metadata": {},
   "outputs": [
    {
     "name": "stdout",
     "output_type": "stream",
     "text": [
      "Číslo a je Ahoj  a číslo b je Jožo\n"
     ]
    },
    {
     "data": {
      "text/plain": [
       "'Ahoj Jožo'"
      ]
     },
     "execution_count": 12,
     "metadata": {},
     "output_type": "execute_result"
    }
   ],
   "source": [
    "scitaj(\"Ahoj \", \"Jožo\")"
   ]
  },
  {
   "cell_type": "markdown",
   "metadata": {},
   "source": [
    "Funkciu vieme nastavit tak, aby brala lubovolny pocet argumentov"
   ]
  },
  {
   "cell_type": "code",
   "execution_count": 14,
   "metadata": {
    "collapsed": true
   },
   "outputs": [],
   "source": [
    "def cisla(a, *argumenty):\n",
    "    vypocet = a * sum(argumenty)\n",
    "    return vypocet"
   ]
  },
  {
   "cell_type": "code",
   "execution_count": 15,
   "metadata": {},
   "outputs": [
    {
     "data": {
      "text/plain": [
       "9"
      ]
     },
     "execution_count": 15,
     "metadata": {},
     "output_type": "execute_result"
    }
   ],
   "source": [
    "cisla(3, 2, 1)"
   ]
  },
  {
   "cell_type": "code",
   "execution_count": 16,
   "metadata": {},
   "outputs": [
    {
     "ename": "SyntaxError",
     "evalue": "invalid syntax (<ipython-input-16-2490922d33d5>, line 2)",
     "output_type": "error",
     "traceback": [
      "\u001b[0;36m  File \u001b[0;32m\"<ipython-input-16-2490922d33d5>\"\u001b[0;36m, line \u001b[0;32m2\u001b[0m\n\u001b[0;31m    1. `def`: toto slovo definuje funkciu.\u001b[0m\n\u001b[0m       ^\u001b[0m\n\u001b[0;31mSyntaxError\u001b[0m\u001b[0;31m:\u001b[0m invalid syntax\n"
     ]
    }
   ],
   "source": [
    "# Naša sčítacia funkcia má štyri podstatné veci:\n",
    "1. `def`: toto slovo definuje funkciu.\n",
    "2. dvojbodka na konci prvého riadku, odtiaľ začína definícia.\n",
    "3. Odsadenie kódu vnútri funkcie o štyri medzery (teoreticky môže byť o hocikoľko, ale chceme udržovať kultúru).\n",
    "4. Samotný kód. V ňom sa môže diať čokoľvek, Python ho postupne prechádza.\n",
    "4. `return`: kľúčová vec. Za toto slovo sa píše, čo je output funkcie."
   ]
  },
  {
   "cell_type": "markdown",
   "metadata": {},
   "source": [
    "## Úloha 1\n",
    "Napíšte funkciu `priemer`, ktorá zoberie dve čísla (výšky dvoch chlapcov) a vypočíta ich priemernú výšku.\n",
    "\n",
    "Potom napíšte funkciu `priemer2`, ktorá zoberie ľubovoľný počet výšok ľudí (v miestnosti) a vráti ich priemer.\n",
    "\n",
    "Ak máš úlohu hotovú, prihlás sa vedúcemu."
   ]
  },
  {
   "cell_type": "code",
   "execution_count": 20,
   "metadata": {},
   "outputs": [
    {
     "name": "stdout",
     "output_type": "stream",
     "text": [
      "55.0\n",
      "190.0\n"
     ]
    }
   ],
   "source": [
    "# Tvoje riesenie:\n",
    "def priemer(prvy, druhy):\n",
    "    return ((prvy+druhy)/2)\n",
    "\n",
    "def priemer2(*ludia):\n",
    "    return (sum(ludia)/len(ludia))\n",
    "\n",
    "print(priemer(90,20))\n",
    "print(priemer2(90,30,450))"
   ]
  },
  {
   "cell_type": "markdown",
   "metadata": {},
   "source": [
    "# Poďme na fyziku\n",
    "\n",
    "V tomto momente môžeme začať používať Python ako sofistikovanejšiu kalkulačku a počítať ňoz základné fyzikálne problémy. \n",
    "Predstavme si napríklad, že potrebujeme zistiť, koľko mólov atómov je v dvoch litroch vody."
   ]
  },
  {
   "cell_type": "code",
   "execution_count": 21,
   "metadata": {},
   "outputs": [
    {
     "name": "stdout",
     "output_type": "stream",
     "text": [
      "111.1111111111111\n"
     ]
    }
   ],
   "source": [
    "rho = 1000.0                # hustota\n",
    "V = 2.0 * 1e-3              # treba premeniť na metre kubické\n",
    "m = rho * V                 # hmotnosť vody\n",
    "Mm = (16 + 1 + 1) * 1e-3    # kg/mol\n",
    "\n",
    "n = m / Mm\n",
    "print(n)                    # vypiseme"
   ]
  },
  {
   "cell_type": "markdown",
   "metadata": {},
   "source": [
    "A koľko molekúl je v jednom litri vody?"
   ]
  },
  {
   "cell_type": "code",
   "execution_count": 22,
   "metadata": {},
   "outputs": [
    {
     "name": "stdout",
     "output_type": "stream",
     "text": [
      "3.345555555555555e+25\n"
     ]
    }
   ],
   "source": [
    "NA = 6.022e23               # Avogadrova konštanta\n",
    "V = 1e-3\n",
    "m = rho * V\n",
    "N = m / Mm * NA             # zamyslite sa nad poradím násobenia a delenia\n",
    "print(N)"
   ]
  },
  {
   "cell_type": "markdown",
   "metadata": {},
   "source": [
    "Vcelku dosť..."
   ]
  },
  {
   "cell_type": "markdown",
   "metadata": {},
   "source": [
    "## Úloha 2\n",
    "Spočítajte objem, ktorý v priemere zaberá jedna molekula ľubovoľnej kvapaliny. Vyjadrite ho v nanometroch kubických.\n",
    "\n",
    "Urobte to tak, že napíšete funkciu, ktorá bude ako vstup brať:\n",
    "* objem kvapaliny\n",
    "* hustotu kvapaliny\n",
    "* molárnu hmotnosť kvapaliny\n",
    "a ako výstup to dá objem jednej molekuly kvapaliny. \n",
    "\n",
    "Spočítajte to pre metanol, etanol a benzén a výsledky potom ukážte vedúcemu. Neváhajte používať Google."
   ]
  },
  {
   "cell_type": "code",
   "execution_count": 23,
   "metadata": {
    "collapsed": true
   },
   "outputs": [],
   "source": [
    "# Tvoje riesenie:\n",
    "\n",
    "def ObjemMolekuly(objem, hustota, molarna_hmotnost):\n",
    "    pocet_molekul = (objem*hustota/molarna_hmostnost)*6.022e23\n",
    "    return (objem/pocet_molekul)"
   ]
  },
  {
   "cell_type": "markdown",
   "metadata": {},
   "source": [
    "# Zoznamy\n",
    "\n",
    "Zatiaľ sme sa zoznámili s číslami (celé, reálne), stringami a trochu aj logickými hodnotami.\n",
    "Zo všetkých týchto prvkov vieme vytvárať množiny, v informatickom jazyku `zoznamy`.\n",
    "\n",
    "Na úvod sa teda pozrieme, ako s vytvára zoznam (po anglicky `list`). Takúto vec všeobecne nazývame dátová štruktúra."
   ]
  },
  {
   "cell_type": "code",
   "execution_count": 24,
   "metadata": {
    "collapsed": true
   },
   "outputs": [],
   "source": [
    "li = [] # prazdny list"
   ]
  },
  {
   "cell_type": "code",
   "execution_count": 25,
   "metadata": {
    "collapsed": true
   },
   "outputs": [],
   "source": [
    "v = [4, 2, 3] # list s cislami"
   ]
  },
  {
   "cell_type": "code",
   "execution_count": 26,
   "metadata": {},
   "outputs": [
    {
     "data": {
      "text/plain": [
       "[4, 2, 3]"
      ]
     },
     "execution_count": 26,
     "metadata": {},
     "output_type": "execute_result"
    }
   ],
   "source": [
    "v"
   ]
  },
  {
   "cell_type": "code",
   "execution_count": 27,
   "metadata": {},
   "outputs": [
    {
     "data": {
      "text/plain": [
       "4"
      ]
     },
     "execution_count": 27,
     "metadata": {},
     "output_type": "execute_result"
    }
   ],
   "source": [
    "v[0] # indexuje sa nulou!"
   ]
  },
  {
   "cell_type": "code",
   "execution_count": 28,
   "metadata": {},
   "outputs": [
    {
     "data": {
      "text/plain": [
       "2"
      ]
     },
     "execution_count": 28,
     "metadata": {},
     "output_type": "execute_result"
    }
   ],
   "source": [
    "v[1]"
   ]
  },
  {
   "cell_type": "code",
   "execution_count": 29,
   "metadata": {},
   "outputs": [
    {
     "data": {
      "text/plain": [
       "list"
      ]
     },
     "execution_count": 29,
     "metadata": {},
     "output_type": "execute_result"
    }
   ],
   "source": [
    "type(v)"
   ]
  },
  {
   "cell_type": "code",
   "execution_count": 30,
   "metadata": {
    "collapsed": true
   },
   "outputs": [],
   "source": [
    "w = [5, 'ahoj', True]"
   ]
  },
  {
   "cell_type": "code",
   "execution_count": 31,
   "metadata": {},
   "outputs": [
    {
     "data": {
      "text/plain": [
       "int"
      ]
     },
     "execution_count": 31,
     "metadata": {},
     "output_type": "execute_result"
    }
   ],
   "source": [
    "type(w[0])"
   ]
  },
  {
   "cell_type": "markdown",
   "metadata": {},
   "source": [
    "Čo sa sa stane, ak zoznamy sčítame? Spoja sa."
   ]
  },
  {
   "cell_type": "code",
   "execution_count": 32,
   "metadata": {},
   "outputs": [
    {
     "data": {
      "text/plain": [
       "[4, 2, 3, 5, 'ahoj', True]"
      ]
     },
     "execution_count": 32,
     "metadata": {},
     "output_type": "execute_result"
    }
   ],
   "source": [
    "v + w"
   ]
  },
  {
   "cell_type": "markdown",
   "metadata": {},
   "source": [
    "Môžeme ich násobiť?"
   ]
  },
  {
   "cell_type": "code",
   "execution_count": 33,
   "metadata": {},
   "outputs": [
    {
     "ename": "TypeError",
     "evalue": "can't multiply sequence by non-int of type 'list'",
     "output_type": "error",
     "traceback": [
      "\u001b[0;31m---------------------------------------------------------------------------\u001b[0m",
      "\u001b[0;31mTypeError\u001b[0m                                 Traceback (most recent call last)",
      "\u001b[0;32m<ipython-input-33-aca2f2822c17>\u001b[0m in \u001b[0;36m<module>\u001b[0;34m()\u001b[0m\n\u001b[0;32m----> 1\u001b[0;31m \u001b[0mv\u001b[0m \u001b[1;33m*\u001b[0m \u001b[0mv\u001b[0m\u001b[1;33m\u001b[0m\u001b[0m\n\u001b[0m",
      "\u001b[0;31mTypeError\u001b[0m: can't multiply sequence by non-int of type 'list'"
     ]
    }
   ],
   "source": [
    "v * v"
   ]
  },
  {
   "cell_type": "markdown",
   "metadata": {},
   "source": [
    "Smola, nemôžeme. Ale všimnime si, aká užitočná je chybová hláška. Jasne nám hovorí, že nemožno násobiť `list`y."
   ]
  },
  {
   "cell_type": "markdown",
   "metadata": {},
   "source": [
    "So zoznamami môžeme robiť rôzne iné užitočné veci. Napríklad ich sčítať."
   ]
  },
  {
   "cell_type": "code",
   "execution_count": 34,
   "metadata": {},
   "outputs": [
    {
     "data": {
      "text/plain": [
       "9"
      ]
     },
     "execution_count": 34,
     "metadata": {},
     "output_type": "execute_result"
    }
   ],
   "source": [
    "sum(v)"
   ]
  },
  {
   "cell_type": "markdown",
   "metadata": {},
   "source": [
    "Alebo zistiť dĺžku:"
   ]
  },
  {
   "cell_type": "code",
   "execution_count": 35,
   "metadata": {},
   "outputs": [
    {
     "data": {
      "text/plain": [
       "3"
      ]
     },
     "execution_count": 35,
     "metadata": {},
     "output_type": "execute_result"
    }
   ],
   "source": [
    "len(v)"
   ]
  },
  {
   "cell_type": "markdown",
   "metadata": {},
   "source": [
    "Alebo ich utriediť:"
   ]
  },
  {
   "cell_type": "code",
   "execution_count": 36,
   "metadata": {},
   "outputs": [
    {
     "data": {
      "text/plain": [
       "[2, 3, 4]"
      ]
     },
     "execution_count": 36,
     "metadata": {},
     "output_type": "execute_result"
    }
   ],
   "source": [
    "sorted(v)"
   ]
  },
  {
   "cell_type": "markdown",
   "metadata": {},
   "source": [
    "Alebo na koniec pridať nový prvok:"
   ]
  },
  {
   "cell_type": "code",
   "execution_count": 37,
   "metadata": {},
   "outputs": [
    {
     "data": {
      "text/plain": [
       "[4, 2, 3, 10]"
      ]
     },
     "execution_count": 37,
     "metadata": {},
     "output_type": "execute_result"
    }
   ],
   "source": [
    "v.append(10)\n",
    "v"
   ]
  },
  {
   "cell_type": "markdown",
   "metadata": {},
   "source": [
    "Alebo odobrať:"
   ]
  },
  {
   "cell_type": "code",
   "execution_count": 38,
   "metadata": {},
   "outputs": [
    {
     "data": {
      "text/plain": [
       "[4, 2, 3]"
      ]
     },
     "execution_count": 38,
     "metadata": {},
     "output_type": "execute_result"
    }
   ],
   "source": [
    "v.pop()\n",
    "v"
   ]
  },
  {
   "cell_type": "markdown",
   "metadata": {},
   "source": [
    "### Interval\n",
    "v zozname sa dá hľadať pomocou intervalov, ktoré sú $\\langle x,y)$, čiže uzavretý - otvorený."
   ]
  },
  {
   "cell_type": "code",
   "execution_count": 39,
   "metadata": {},
   "outputs": [
    {
     "data": {
      "text/plain": [
       "10"
      ]
     },
     "execution_count": 39,
     "metadata": {},
     "output_type": "execute_result"
    }
   ],
   "source": [
    "li = [2, 5, 7, 8, 10, 11, 14, 18, 20, 25]\n",
    "len(li)"
   ]
  },
  {
   "cell_type": "code",
   "execution_count": 40,
   "metadata": {},
   "outputs": [
    {
     "data": {
      "text/plain": [
       "[5, 7, 8, 10]"
      ]
     },
     "execution_count": 40,
     "metadata": {},
     "output_type": "execute_result"
    }
   ],
   "source": [
    "li[1:5] # indexovanie na zaciatku nulou + polouzavrety interval"
   ]
  },
  {
   "cell_type": "code",
   "execution_count": 41,
   "metadata": {},
   "outputs": [
    {
     "data": {
      "text/plain": [
       "[2, 5, 7]"
      ]
     },
     "execution_count": 41,
     "metadata": {},
     "output_type": "execute_result"
    }
   ],
   "source": [
    "li[:3] # prve tri prvky"
   ]
  },
  {
   "cell_type": "code",
   "execution_count": 42,
   "metadata": {},
   "outputs": [
    {
     "data": {
      "text/plain": [
       "[14, 18, 20, 25]"
      ]
     },
     "execution_count": 42,
     "metadata": {},
     "output_type": "execute_result"
    }
   ],
   "source": [
    "li[6:] # prvky zacinajuce na 6tom mieste"
   ]
  },
  {
   "cell_type": "code",
   "execution_count": 43,
   "metadata": {},
   "outputs": [
    {
     "data": {
      "text/plain": [
       "[7, 10, 14, 20]"
      ]
     },
     "execution_count": 43,
     "metadata": {},
     "output_type": "execute_result"
    }
   ],
   "source": [
    "li[2:9:2] # zaciatok:koniec:krok"
   ]
  },
  {
   "cell_type": "code",
   "execution_count": 44,
   "metadata": {},
   "outputs": [
    {
     "data": {
      "text/plain": [
       "[2, 5, 8, 10, 11, 14, 18, 20, 25]"
      ]
     },
     "execution_count": 44,
     "metadata": {},
     "output_type": "execute_result"
    }
   ],
   "source": [
    "del li[2]\n",
    "li"
   ]
  },
  {
   "cell_type": "markdown",
   "metadata": {},
   "source": [
    "Zoznam možno zadefinovať aj cez rozsah:"
   ]
  },
  {
   "cell_type": "code",
   "execution_count": 45,
   "metadata": {},
   "outputs": [
    {
     "data": {
      "text/plain": [
       "range"
      ]
     },
     "execution_count": 45,
     "metadata": {},
     "output_type": "execute_result"
    }
   ],
   "source": [
    "range(10)\n",
    "type(range(10))"
   ]
  },
  {
   "cell_type": "code",
   "execution_count": 46,
   "metadata": {},
   "outputs": [
    {
     "data": {
      "text/plain": [
       "[0, 1, 2, 3, 4, 5, 6, 7, 8, 9]"
      ]
     },
     "execution_count": 46,
     "metadata": {},
     "output_type": "execute_result"
    }
   ],
   "source": [
    "list(range(10))"
   ]
  },
  {
   "cell_type": "code",
   "execution_count": 47,
   "metadata": {},
   "outputs": [
    {
     "data": {
      "text/plain": [
       "[3, 4, 5, 6, 7, 8]"
      ]
     },
     "execution_count": 47,
     "metadata": {},
     "output_type": "execute_result"
    }
   ],
   "source": [
    "list(range(3, 9))"
   ]
  },
  {
   "cell_type": "markdown",
   "metadata": {},
   "source": [
    "## Úloha 3\n",
    "Spočítajte:\n",
    "* súčet všetkých čísel od 1 do 1000.\n",
    "\n",
    "Vytvorte zoznam `letnaskola`, ktorý bude obsahovať vašich 5 obľúbených celých čísel. \n",
    "* Pridajte na koniec zoznamu číslo 100\n",
    "* Vymažte druhé číslo zo zoznamu.\n",
    "* Prepíšte prvé číslo v zozname tak, aby sa rovnalo poslednému v zozname.\n",
    "* Vypočítajte súčet prvého čísla, posledného čísla a dĺžky zoznamu."
   ]
  },
  {
   "cell_type": "code",
   "execution_count": 61,
   "metadata": {},
   "outputs": [
    {
     "name": "stdout",
     "output_type": "stream",
     "text": [
      "500500\n",
      "[1, 1995, 12, 6, 42]\n",
      "[1, 1995, 12, 6, 42, 100]\n",
      "[1, 12, 6, 42, 100]\n",
      "[100, 12, 6, 42, 100]\n",
      "200 5\n"
     ]
    }
   ],
   "source": [
    "# Tvoje riesenie:\n",
    "zoznam = list(range(1,1001))\n",
    "print(sum(zoznam))\n",
    "\n",
    "letnaskola = [1,1995,12,6,42]\n",
    "print(letnaskola)\n",
    "letnaskola.append(100)\n",
    "print(letnaskola)\n",
    "del letnaskola[1]\n",
    "print(letnaskola)\n",
    "letnaskola[0] = letnaskola[len(letnaskola)-1]\n",
    "print(letnaskola)\n",
    "\n",
    "print(letnaskola[0]+letnaskola[len(letnaskola)-1], len(letnaskola))"
   ]
  },
  {
   "cell_type": "markdown",
   "metadata": {},
   "source": [
    "# For cyklus\n",
    "\n",
    "Indexy zoznamu môžeme postupne prechádzať. For cyklus je tzv. `iterátor`, ktorý iteruje cez zoznam."
   ]
  },
  {
   "cell_type": "code",
   "execution_count": 62,
   "metadata": {},
   "outputs": [
    {
     "name": "stdout",
     "output_type": "stream",
     "text": [
      "2\n",
      "5\n",
      "8\n",
      "10\n",
      "11\n",
      "14\n",
      "18\n",
      "20\n",
      "25\n"
     ]
    }
   ],
   "source": [
    "for i in li:\n",
    "    print(i)"
   ]
  },
  {
   "cell_type": "code",
   "execution_count": 63,
   "metadata": {},
   "outputs": [
    {
     "name": "stdout",
     "output_type": "stream",
     "text": [
      "4\n",
      "25\n",
      "64\n",
      "100\n",
      "121\n",
      "196\n",
      "324\n",
      "400\n",
      "625\n"
     ]
    }
   ],
   "source": [
    "for i in li:\n",
    "    print(i**2)"
   ]
  },
  {
   "cell_type": "markdown",
   "metadata": {},
   "source": [
    "Ako úspešne vytvoriť For cyklus? Podobne, ako pri funkciách:\n",
    "\n",
    "* `for`: toto slovo je na začiatku.\n",
    "* `i`: iterovana velicina\n",
    "* `in`: pred zoznamom, cez ktorý prechádzame (iterujeme).\n",
    "* dvojbodka na konci prvého riadku.\n",
    "* kod, ktory sa cykli sa odsadzuje o štyri medzery."
   ]
  },
  {
   "cell_type": "markdown",
   "metadata": {},
   "source": [
    "Za pomoci for cyklu môžeme takisto sčítať čísla. Napr. čísla od 0 do 100:"
   ]
  },
  {
   "cell_type": "code",
   "execution_count": 64,
   "metadata": {},
   "outputs": [
    {
     "name": "stdout",
     "output_type": "stream",
     "text": [
      "5050\n"
     ]
    }
   ],
   "source": [
    "sum = 0\n",
    "\n",
    "for i in range(101):   # uvedomme si, preco tam je 101 a nie 100\n",
    "    sum = sum + i      # skratene sum += i\n",
    "    \n",
    "print(sum)"
   ]
  },
  {
   "cell_type": "markdown",
   "metadata": {},
   "source": [
    "## Úloha 4\n",
    "Spočítajte súčet druhých mocnín všetkých nepárnych čísel od 1 do 100 s využitím for cyklu."
   ]
  },
  {
   "cell_type": "code",
   "execution_count": 65,
   "metadata": {},
   "outputs": [
    {
     "name": "stdout",
     "output_type": "stream",
     "text": [
      "166650\n"
     ]
    }
   ],
   "source": [
    "# Tvoje riesenie:\n",
    "sum = 0\n",
    "for i in range(101):\n",
    "    if (i%2 == 1): sum = sum + i**2\n",
    "print(sum)\n"
   ]
  },
  {
   "cell_type": "markdown",
   "metadata": {},
   "source": [
    "# Podmienky\n",
    "\n",
    "Pochopíme ich na príklade. Zmeňte `a` a zistite, čo to spraví."
   ]
  },
  {
   "cell_type": "code",
   "execution_count": 66,
   "metadata": {},
   "outputs": [
    {
     "name": "stdout",
     "output_type": "stream",
     "text": [
      "cislo a je rovne piatim\n"
     ]
    }
   ],
   "source": [
    "a = 5\n",
    "\n",
    "if a == 3:\n",
    "    print(\"cislo a je rovne trom.\")\n",
    "elif a == 5:\n",
    "    print(\"cislo a je rovne piatim\")\n",
    "else:\n",
    "    print(\"cislo a nie je rovne trom ani piatim.\")"
   ]
  },
  {
   "cell_type": "markdown",
   "metadata": {},
   "source": [
    "Za pomoci podmienky teraz môžeme z for cyklu vypísať napr. len párne čísla. Párne číslo identifikujeme ako také, ktoré po delení dvomi dáva zvyšok nula.\n",
    "\n",
    "Pre zvyšok po delení sa používa percento:"
   ]
  },
  {
   "cell_type": "code",
   "execution_count": 67,
   "metadata": {},
   "outputs": [
    {
     "name": "stdout",
     "output_type": "stream",
     "text": [
      "0\n",
      "2\n",
      "4\n",
      "6\n",
      "8\n"
     ]
    }
   ],
   "source": [
    "for i in range(10):\n",
    "    if i % 2 == 0:\n",
    "        print(i)"
   ]
  },
  {
   "cell_type": "markdown",
   "metadata": {},
   "source": [
    "Cyklus mozeme zastavit, ak sa porusi nejaka podmienka"
   ]
  },
  {
   "cell_type": "code",
   "execution_count": 68,
   "metadata": {},
   "outputs": [
    {
     "name": "stdout",
     "output_type": "stream",
     "text": [
      "0\n",
      "1\n",
      "2\n",
      "3\n",
      "4\n",
      "5\n",
      "6\n",
      "7\n",
      "8\n",
      "9\n",
      "10\n",
      "11\n",
      "Koniec.\n"
     ]
    }
   ],
   "source": [
    "for i in range(20):\n",
    "    print(i)\n",
    "    if i>10:\n",
    "        print('Koniec.')\n",
    "        break"
   ]
  },
  {
   "cell_type": "markdown",
   "metadata": {},
   "source": [
    "## Úloha 5\n",
    "Spočítajte:\n",
    "* súčet všetkých čísel od 1 do 1000 deliteľné jedenástimi.\n",
    "* súčet tretích mocnín čísel od 1 do 1000 deliteľných dvanástimi."
   ]
  },
  {
   "cell_type": "code",
   "execution_count": 69,
   "metadata": {},
   "outputs": [
    {
     "name": "stdout",
     "output_type": "stream",
     "text": [
      "45045\n",
      "20998994688\n"
     ]
    }
   ],
   "source": [
    "# Tvoje riesenie:\n",
    "sum = 0\n",
    "\n",
    "for i in range(1001):\n",
    "    if (i%11 == 0): sum = sum + i\n",
    "\n",
    "print(sum)\n",
    "\n",
    "sum = 0\n",
    "\n",
    "for i in range(1001):\n",
    "    if (i%12 == 0): sum = sum + i**3\n",
    "        \n",
    "print(sum)"
   ]
  },
  {
   "cell_type": "markdown",
   "metadata": {},
   "source": [
    "## Úloha 6\n",
    "\n",
    "Teraz, keď už vieme, ako sa zisťuje deliteľnosť, môžeme tiež zistiť, či je zadané číslo prvočíslom. Vymyslite algoritmus, ktorý overí prvočíselnú vlastnosť nejakého čísla.\n",
    "\n",
    "Výstup by mal byť nasledovný:\n",
    "```Python\n",
    ">>> prvocislo(10)\n",
    "nie\n",
    ">>> prvocislo(13)\n",
    "ano\n",
    "```"
   ]
  },
  {
   "cell_type": "code",
   "execution_count": 88,
   "metadata": {},
   "outputs": [
    {
     "name": "stdout",
     "output_type": "stream",
     "text": [
      "nie\n",
      "ano\n"
     ]
    }
   ],
   "source": [
    "# Tvoje riesenie:\n",
    "from math import *\n",
    "\n",
    "def prvocislo(cislo):\n",
    "    vysledok = \"ano\"\n",
    "    for i in range(2,int(floor(sqrt(cislo)))+1):\n",
    "        if (cislo%i == 0): \n",
    "            vysledok = \"nie\"\n",
    "    return vysledok\n",
    "            \n",
    "print(prvocislo(10))\n",
    "print(prvocislo(13))"
   ]
  },
  {
   "cell_type": "markdown",
   "metadata": {},
   "source": [
    "## Úloha 7\n",
    "Predstavme si, že chceme sčítať nekonečný počet čísel:\n",
    "$$ \\sum_{n=1}^\\infty \\frac{1}{n^2}.$$\n",
    "Analytický výsledok takejto sumy je $\\pi^2/6$. Koľko členov potrebujeme sčítať, aby presnosť s analytický výsledkov bola určená na tri desatinné miesta?"
   ]
  },
  {
   "cell_type": "code",
   "execution_count": 121,
   "metadata": {},
   "outputs": [
    {
     "name": "stdout",
     "output_type": "stream",
     "text": [
      "Presne  1.645\n",
      "2004   1.6444351893330087\n"
     ]
    }
   ],
   "source": [
    "# Tvoje riesenie:\n",
    "from math import *\n",
    "print('Presne ',round(pi**2/6,3))\n",
    "\n",
    "sum = 0\n",
    "for i in range(1,2005):\n",
    "    sum = sum + 1.0/i**2\n",
    "\n",
    "print(i,' ',sum)"
   ]
  },
  {
   "cell_type": "markdown",
   "metadata": {},
   "source": [
    "# Konečne poďme na niečo zaujímavé!\n",
    "\n",
    "V predchádzajúcej časti sme sa zoznámili so základnou syntaxou Pythonu, zoznámili sme sa s Jupyterom a naučili sme sa niečo málo o tom akoby sme mohli sčítať nejaké rady. Nastal však čas pustiť sa do niečo zaujímavejšieho.\n",
    "\n",
    "V nasledujúcej časti sa pozrieme ako sa dajú pomocou numerickej matematiky a nejakých tých šikovných matematických vzťahov dajú vypočítať konštanty, s ktorými ste sa už stretli."
   ]
  },
  {
   "cell_type": "markdown",
   "metadata": {
    "nbpresent": {
     "id": "3e4eea1e-be15-48c6-b0ee-a9f00b5d1888"
    },
    "slideshow": {
     "slide_type": "slide"
    }
   },
   "source": [
    "## Hľadanie hodnoty zlatého rezu $\\varphi$\n",
    "\n",
    "Jednoduché cvičenie na oboznámenie sa s tzv. selfkonzistentným problémom a for cyklom"
   ]
  },
  {
   "cell_type": "code",
   "execution_count": null,
   "metadata": {
    "collapsed": true,
    "nbpresent": {
     "id": "eebec52d-a725-41ec-b458-4fa3a3f3e606"
    },
    "slideshow": {
     "slide_type": "slide"
    }
   },
   "outputs": [],
   "source": [
    "x = 1;\n",
    "\n",
    "for i in range (0,20):\n",
    "    x = 1+1/x\n",
    "    print (x)"
   ]
  },
  {
   "cell_type": "markdown",
   "metadata": {
    "nbpresent": {
     "id": "90dabfbc-4a61-4f95-8c07-e1eaff7eb372"
    },
    "slideshow": {
     "slide_type": "slide"
    }
   },
   "source": [
    "## Hľadanie hodnoty Eulerovho čísla $e$\n",
    "\n",
    "Hoci je to málo známe, Eulerove čislo $e$ sa dá nájsť ako odpoveď na nasledujúcu úlohu (rozdeľuj a ponásob):\n",
    "Na aké veľké časti treba rozdeliť hocaké číslo tak, aby súčin týchto častí bol maximálny."
   ]
  },
  {
   "cell_type": "code",
   "execution_count": null,
   "metadata": {
    "collapsed": true,
    "nbpresent": {
     "id": "fcc71dc9-b1fe-4bce-8243-75e173852466"
    },
    "slideshow": {
     "slide_type": "slide"
    }
   },
   "outputs": [],
   "source": [
    "import matplotlib.pyplot as plt\n",
    "%matplotlib inline\n",
    "\n",
    "import numpy as np"
   ]
  },
  {
   "cell_type": "code",
   "execution_count": null,
   "metadata": {
    "collapsed": true,
    "nbpresent": {
     "id": "66f4b995-02e0-4203-95e9-e72414707a3e"
    },
    "slideshow": {
     "slide_type": "slide"
    }
   },
   "outputs": [],
   "source": [
    "Num0 = 25\n",
    "\n",
    "delitele = np.arange(1, 20 , 1)\n",
    "\n",
    "casti = []\n",
    "suciny = []\n",
    "\n",
    "for i in range (0, 19):\n",
    "        \n",
    "    casti.append(Num0/delitele[i])\n",
    "    \n",
    "    suciny.append(casti[i]**delitele[i])"
   ]
  },
  {
   "cell_type": "code",
   "execution_count": null,
   "metadata": {
    "collapsed": true,
    "nbpresent": {
     "id": "8adf3953-9098-418d-80e4-5eabb935af52"
    },
    "slideshow": {
     "slide_type": "slide"
    }
   },
   "outputs": [],
   "source": [
    "plt.plot(casti, suciny, \"ro-\")\n",
    "plt.show()"
   ]
  },
  {
   "cell_type": "code",
   "execution_count": null,
   "metadata": {
    "collapsed": true,
    "nbpresent": {
     "id": "64b85db5-5926-450c-87bc-959a743d4ef3"
    },
    "slideshow": {
     "slide_type": "slide"
    }
   },
   "outputs": [],
   "source": [
    "MinDel = delitele[np.argmax(suciny)-1]\n",
    "MaxDel = delitele[np.argmax(suciny)+1]"
   ]
  },
  {
   "cell_type": "code",
   "execution_count": null,
   "metadata": {
    "collapsed": true,
    "nbpresent": {
     "id": "7fc6c5a8-e380-4fa9-9623-776f878373db"
    },
    "slideshow": {
     "slide_type": "slide"
    }
   },
   "outputs": [],
   "source": [
    "delitele =  np.arange(MinDel, MaxDel, (MaxDel - MinDel)/10)\n",
    "\n",
    "casti = []\n",
    "suciny = []\n",
    "\n",
    "for i in range (0, 9):\n",
    "        \n",
    "    casti.append(Num0/delitele[i])\n",
    "    \n",
    "    suciny.append(casti[i]**delitele[i])"
   ]
  },
  {
   "cell_type": "code",
   "execution_count": null,
   "metadata": {
    "collapsed": true,
    "nbpresent": {
     "id": "7def42d1-63da-410e-9a75-3156f16837f0"
    },
    "slideshow": {
     "slide_type": "slide"
    }
   },
   "outputs": [],
   "source": [
    "plt.plot(casti, suciny, \"ro-\")\n",
    "plt.show()"
   ]
  },
  {
   "cell_type": "code",
   "execution_count": null,
   "metadata": {
    "collapsed": true,
    "nbpresent": {
     "id": "0eefe6cd-337f-4767-9a08-56004236185f"
    },
    "slideshow": {
     "slide_type": "slide"
    }
   },
   "outputs": [],
   "source": [
    "casti[np.argmax(suciny)]"
   ]
  },
  {
   "cell_type": "markdown",
   "metadata": {},
   "source": [
    "# Ako sa numericky derivuje, integruje a riešia difky?"
   ]
  },
  {
   "cell_type": "markdown",
   "metadata": {
    "collapsed": true
   },
   "source": [
    "## Derivovanie\n",
    "\n",
    "Na to, aby sme numericky zderivovali nejakú funkciu si musíme najprv uvedomiť, čo tá derivácia vlastne intuitívne robí.\n",
    "Predstavme si obrázok a v ňom nakreslenú dotyčnicu a malý trojuholníček. Buď sme sa učili alebo sme sa práve teraz dozvedeli, že derivácia funkcie je smernica jej dotyčnice v danom bode. Odtiaľ by už mohlo byť (po nejakých tých obrázkoch) jasné, že to bude nejako takto: \n",
    "\n",
    "$$ \\frac{df}{dx} = \\frac{f(x+h) - f(x-h)}{2h} $$\n",
    "\n",
    "Zvolíme si malé $h$ a derivujeme."
   ]
  },
  {
   "cell_type": "code",
   "execution_count": null,
   "metadata": {
    "collapsed": true
   },
   "outputs": [],
   "source": [
    "def func(x):\n",
    "    return cos(x)\n",
    "\n",
    "def deriv(f, x, h=0.01):\n",
    "    return (f(x+h)-f(x-h))/(2*h)\n",
    "\n",
    "x = np.linspace(0, 2*pi, 101)\n",
    "#print(x)\n",
    "y = [func(i) for i in x]\n",
    "dydx = [deriv(func, i) for i in x]\n",
    "\n",
    "plt.plot(x, y, label=\"$f(x)$\")\n",
    "plt.plot(x, dydx, label=\"$\\\\frac{df}{dx}$\")\n",
    "plt.xlim([0, 2*pi])\n",
    "plt.xticks([0, pi, 2*pi])\n",
    "plt.legend(loc=\"best\")\n",
    "plt.show()"
   ]
  },
  {
   "cell_type": "markdown",
   "metadata": {},
   "source": [
    "### Išlo by to však aj s lepšou presnosťou?\n",
    "\n",
    "Odkiaľ spadol magický vzorček vyššie? Tí čo už na podobné akcie chodia dlhšie sa už možno stretli s pojmom Taylorov rozvoj, intuitívne v princípe každá slušná a poslušná funkcia, s ktorou sa stretneme sa dá rozviť v istom okolí bodu $x_0$ do súčtu mocninových funkcií nasledovne:\n",
    "\n",
    "$$ f(x) \\approx f(x_0) + \\left.\\frac{df}{dx}\\right|_{x=x_0}(x-x_0) + \\frac{1}{2!}{\\left(\\left.\\frac{df}{dx}\\right|_{x=x_0}\\right)}^2{(x-x_0)}^2 + \\frac{1}{3!}{\\left(\\left.\\frac{df}{dx}\\right|_{x=x_0}\\right)}^3{(x-x_0)}^3 + ...$$\n",
    "\n",
    "Ak takto rozvinieme funkcie nielen v okolí bodu $x_0$, ale aj $x_0 + h$ a $x_0 - h$, a následne rozvejo vhodne medzi sebou odčítame, tak sme schopný nájsť hodnotu derivácie funkcie $\\frac{df}{dx}$ v bode $x_0$, teda \n",
    "$$\n",
    "\\left.\\frac{df}{dx}\\right|_{x=x_0}\n",
    "$$\n",
    "\n",
    "Skúste rozviť funkciu aj v bodoch $x_0+2h$ a $x_0-2h$ a získať vzorček, ktorý nám umožní vypočítať deriváciu s lepšou presnosťou."
   ]
  },
  {
   "cell_type": "markdown",
   "metadata": {},
   "source": [
    "## Integrovanie\n",
    "\n",
    "Dve základné metódy ako sa dá niečo numericky integrovať sú:\n",
    "* Kvadratúra\n",
    "* Monte Carlo\n",
    "\n",
    "Dva spôsoby:\n",
    "* Kvadratúra (dobrá v 1D, ale so zvyšovaním rozmerov presnosť klesá)\n",
    "* Monte Carlo (presnosť vždy $O(N^{-1/2})$ (N je počet bodov, ktoré použijeme na výpočet inegr), použiť pri viac ako troch rozmeroch)\n",
    "\n",
    "\n",
    "Pomôžu nám knižnice.\n",
    "Teraz si ukážeme kvadratúru."
   ]
  },
  {
   "cell_type": "code",
   "execution_count": 55,
   "metadata": {},
   "outputs": [],
   "source": [
    "#from scipy.integrate import quad\n",
    "import scipy.integrate as sp\n",
    "\n",
    "def func2(x):\n",
    "    return exp(-x**2)\n",
    "\n",
    "sp.quad(func2, -20, 20)   # vysledok je 1/4"
   ]
  },
  {
   "cell_type": "code",
   "execution_count": 52,
   "metadata": {},
   "outputs": [],
   "source": [
    "sqrt(pi)"
   ]
  },
  {
   "cell_type": "markdown",
   "metadata": {
    "nbpresent": {
     "id": "35162a6f-ee4e-4780-b11d-7fd2b7ec1204"
    },
    "slideshow": {
     "slide_type": "slide"
    }
   },
   "source": [
    "## Hľadanie hodnoty Ludolfovho čísla $\\pi$\n",
    "Pomocou Monte Carlo metódy integrovania sa naučíme ako napríklad vypočítať $\\pi$.\n"
   ]
  },
  {
   "cell_type": "code",
   "execution_count": null,
   "metadata": {
    "collapsed": true,
    "nbpresent": {
     "id": "ead10157-1781-43ec-8be1-6b0e2c1b8ca6"
    },
    "slideshow": {
     "slide_type": "slide"
    }
   },
   "outputs": [],
   "source": [
    "import random as rnd\n",
    "\n",
    "NOP = 50000\n",
    "\n",
    "CoordXList = [];\n",
    "CoordYList = [];\n",
    "\n",
    "for j in range (NOP):\n",
    "    CoordXList.append(rnd.random())\n",
    "    CoordYList.append(rnd.random())"
   ]
  },
  {
   "cell_type": "code",
   "execution_count": null,
   "metadata": {
    "collapsed": true,
    "nbpresent": {
     "id": "9824b9ac-efea-4e37-85a1-cf2707707282"
    },
    "slideshow": {
     "slide_type": "-"
    }
   },
   "outputs": [],
   "source": [
    "CircPhi = np.arange(0,np.pi/2,0.01)"
   ]
  },
  {
   "cell_type": "code",
   "execution_count": null,
   "metadata": {
    "collapsed": true,
    "nbpresent": {
     "id": "de34c0b2-9961-4c2d-9cfd-adead4c004e8"
    },
    "slideshow": {
     "slide_type": "slide"
    }
   },
   "outputs": [],
   "source": [
    "plt.figure(figsize=(7,7))\n",
    "\n",
    "plt.plot(\n",
    "    CoordXList,\n",
    "    CoordYList,\n",
    "    color = \"red\",\n",
    "    linestyle= \"none\",\n",
    "    marker = \",\"\n",
    ")\n",
    "plt.plot(np.cos(CircPhi),np.sin(CircPhi))\n",
    "#plt.axis([0, 1, 0, 1])\n",
    "#plt.axes().set_aspect('equal', 'datalim')\n",
    "plt.show()"
   ]
  },
  {
   "cell_type": "raw",
   "metadata": {
    "nbpresent": {
     "id": "7b993cc6-c704-4304-abba-dac8ccc3a876"
    },
    "slideshow": {
     "slide_type": "slide"
    }
   },
   "source": [
    "NumIn = 0\n",
    "\n",
    "for j in range (NOP):\n",
    "    \n",
    "    #if (CoordXList[j] - 0.5)*(CoordXList[j] - 0.5) + (CoordYList[j] - 0.5)*(CoordYList[j] - 0.5) < 0.25:\n",
    "    if CoordXList[j]*CoordXList[j] + CoordYList[j]*CoordYList[j] <= 1:\n",
    "        \n",
    "        NumIn = NumIn + 1;   "
   ]
  },
  {
   "cell_type": "raw",
   "metadata": {
    "nbpresent": {
     "id": "d0c9767f-0252-473b-84c3-137f9e3e9138"
    },
    "slideshow": {
     "slide_type": "slide"
    }
   },
   "source": [
    "NumIn/NOP*4"
   ]
  },
  {
   "cell_type": "markdown",
   "metadata": {},
   "source": [
    "## Diferenciálne rovnice\n",
    "\n",
    "Príklad neriešiteľnej difky:\n",
    "$$ y'(x) = \\sqrt{1+xy} $$\n",
    "Príklad Eulerovej (najjednoduchšej) metódy."
   ]
  },
  {
   "cell_type": "code",
   "execution_count": 3,
   "metadata": {},
   "outputs": [],
   "source": [
    "N = 101\n",
    "x = np.linspace(0, 1, N)\n",
    "dx = x[1] - x[0]\n",
    "y_eu = np.zeros(N)\n",
    "y_eu[0] = 1      # pociatocna podmienka\n",
    "\n",
    "def func(x, y):\n",
    "    return sqrt(1.0 + x*y)\n",
    "#    return sin(x)\n",
    "\n",
    "for i in range(1, N):\n",
    "    y_eu[i] = y_eu[i-1] + func(x[i-1], y_eu[i-1])*dx\n",
    "    \n",
    "plt.plot(x, y_eu)\n",
    "plt.show()"
   ]
  },
  {
   "cell_type": "markdown",
   "metadata": {},
   "source": [
    "## Difky za pomoci knižníc\n",
    "\n",
    "Použijeme funkciu `ode` z knižnice `scipy`. Znova riešime\n",
    "$$y'(x) = \\sqrt{1+xy} .$$"
   ]
  },
  {
   "cell_type": "code",
   "execution_count": 5,
   "metadata": {},
   "outputs": [],
   "source": [
    "from scipy.integrate import odeint\n",
    "\n",
    "N = 101\n",
    "\n",
    "def func(y, x):\n",
    "    return sqrt(1 + x*y)\n",
    "\n",
    "x = np.linspace(0, 1, N)\n",
    "y0 = 1.0\n",
    "y = odeint(func, y0, x) ### Pozri Google Scipy.integrate.odeint\n",
    "\n",
    "plt.plot(x, (y_eu-y.T[0])/y.T[0])\n",
    "plt.title(\"Rozdiel medzi odeint a Eulerom\")\n",
    "plt.show()"
   ]
  },
  {
   "cell_type": "markdown",
   "metadata": {},
   "source": [
    "## Iný príklad na Difky: Exponenciálny rozpad\n",
    "\n",
    "Ešte sa kukneme na numerické riešenie jednoduchých diferenciálnych rovníc. Metódu demonštrujeme na príklade exponenciálneho rozpadu. Znovu pomocou najjednoduchšej - Eulerovej metódy.\n",
    "\n",
    "$$\\frac{d n}{dt}=-\\lambda n$$\n",
    "\n",
    "$$\\frac{n(t+dt)-n(t)}{dt}=-\\lambda n(t)$$\n",
    "\n",
    "$$n(t+dt)=n(t)(1 -\\lambda dt), n(0)=N_0$$"
   ]
  },
  {
   "cell_type": "code",
   "execution_count": null,
   "metadata": {
    "collapsed": true
   },
   "outputs": [],
   "source": [
    "N0 = 500\n",
    "\n",
    "#τ=λdt#\n",
    "τ = 0.5"
   ]
  },
  {
   "cell_type": "code",
   "execution_count": null,
   "metadata": {
    "collapsed": true
   },
   "outputs": [],
   "source": [
    "tauka=[]\n",
    "NumOfPart=[]\n",
    "\n",
    "for i in range (15):\n",
    "    \n",
    "    if i == 0:\n",
    "        \n",
    "        n = N0\n",
    "    \n",
    "    else:\n",
    "        \n",
    "        n = n*(1 - τ)\n",
    "        \n",
    "    tauka.append(i*τ)\n",
    "    NumOfPart.append(n)"
   ]
  },
  {
   "cell_type": "code",
   "execution_count": null,
   "metadata": {
    "collapsed": true
   },
   "outputs": [],
   "source": [
    "plt.plot(tauka, NumOfPart, \"ro-\")\n",
    "plt.show()"
   ]
  },
  {
   "cell_type": "markdown",
   "metadata": {},
   "source": [
    "# Obiehanie Zeme okolo Slnka\n",
    "\n",
    "Fyziku (dúfam!) všetci poznáme.\n",
    "\n",
    "* gravitačná sila:\n",
    "$$ \\mathbf F(\\mathbf r) = -\\frac{G m M}{r^3} \\mathbf r $$\n",
    "\n",
    "### Eulerov algoritmus (zlý)\n",
    "$$\\begin{align}\n",
    "a(t) &= F(t)/m \\\\\n",
    "v(t+dt) &= v(t) + a(t) dt \\\\\n",
    "x(t+dt) &= x(t) + v(t) dt \\\\\n",
    "\\end{align}$$\n",
    "\n",
    "### Verletov algoritmus (dobrý)\n",
    "$$ x(t+dt) = 2 x(t) - x(t-dt) + a(t) dt^2 $$"
   ]
  },
  {
   "cell_type": "code",
   "execution_count": null,
   "metadata": {
    "collapsed": true
   },
   "outputs": [],
   "source": [
    "from numpy.linalg import norm\n",
    "\n",
    "G = 6.67e-11\n",
    "Ms = 2e30\n",
    "Mz = 6e24\n",
    "dt = 86400.0\n",
    "N = int(365*86400.0/dt)\n",
    "#print(N)\n",
    "\n",
    "R0 = 1.5e11\n",
    "r_list = np.zeros((N, 2))\n",
    "r_list[0] = [R0, 0.0]     # mozno miesat listy s ndarray\n",
    "\n",
    "v0 = 29.7e3\n",
    "v_list = np.zeros((N, 2))\n",
    "v_list[0] = [0.0, v0]\n",
    "\n",
    "# sila medzi planetami\n",
    "def force(A, r):\n",
    "    return -A / norm(r)**3 * r\n",
    "\n",
    "# Verletova integracia\n",
    "def verlet_step(r_n, r_nm1, a, dt):  # r_nm1 -- r n minus 1\n",
    "    return 2*r_n - r_nm1 + a*dt**2\n",
    "\n",
    "# prvy krok je specialny\n",
    "a = force(G*Ms, r_list[0])\n",
    "r_list[1] = r_list[0] + v_list[0]*dt + a*dt**2/2\n",
    "\n",
    "\n",
    "# riesenie pohybovych rovnic\n",
    "for i in range(2, N):\n",
    "    a = force(G*Ms, r_list[i-1])\n",
    "    r_list[i] = verlet_step(r_list[i-1], r_list[i-2], a, dt)\n",
    "    \n",
    "    \n",
    "plt.plot(r_list[:, 0], r_list[:, 1])\n",
    "plt.xlim([-2e11, 2e11])\n",
    "plt.ylim([-2e11, 2e11])\n",
    "plt.xlabel(\"$x$\", fontsize=20)\n",
    "plt.ylabel(\"$y$\", fontsize=20)\n",
    "plt.gca().set_aspect('equal', adjustable='box')\n",
    "#plt.axis(\"equal\")\n",
    "plt.show()"
   ]
  },
  {
   "cell_type": "markdown",
   "metadata": {},
   "source": [
    "## Pridajme Mesiac"
   ]
  },
  {
   "cell_type": "code",
   "execution_count": null,
   "metadata": {
    "collapsed": true
   },
   "outputs": [],
   "source": [
    "Mm = 7.3e22\n",
    "R0m = R0 + 384e6\n",
    "v0m = v0 + 1e3\n",
    "rm_list = np.zeros((N, 2))\n",
    "rm_list[0] = [R0m, 0.0]\n",
    "vm_list = np.zeros((N, 2))\n",
    "vm_list[0] = [0.0, v0m]\n",
    "\n",
    "# prvy Verletov krok\n",
    "am = force(G*Ms, rm_list[0]) + force(G*Mz, rm_list[0] - r_list[0])\n",
    "rm_list[1] = rm_list[0] + vm_list[0]*dt + am*dt**2/2\n",
    "\n",
    "# riesenie pohybovych rovnic\n",
    "for i in range(2, N):\n",
    "    a = force(G*Ms, r_list[i-1]) - force(G*Mm, rm_list[i-1]-r_list[i-1])\n",
    "    am = force(G*Ms, rm_list[i-1]) + force(G*Mz, rm_list[i-1]-r_list[i-1])\n",
    "    r_list[i] = verlet_step(r_list[i-1], r_list[i-2], a, dt)\n",
    "    rm_list[i] = verlet_step(rm_list[i-1], rm_list[i-2], am, dt)\n",
    "    \n",
    "plt.plot(r_list[:, 0], r_list[:, 1])\n",
    "plt.plot(rm_list[:, 0], rm_list[:, 1])\n",
    "plt.xlabel(\"$x$\", fontsize=20)\n",
    "plt.ylabel(\"$y$\", fontsize=20)\n",
    "plt.gca().set_aspect('equal', adjustable='box')\n",
    "plt.xlim([-2e11, 2e11])\n",
    "plt.ylim([-2e11, 2e11])\n",
    "plt.show()         # mesiac moc nevidno, ale vieme, ze tam je"
   ]
  },
  {
   "cell_type": "markdown",
   "metadata": {
    "collapsed": true
   },
   "source": [
    "## Úloha pre Vás: Treba pridať Mars :)\n",
    "Pridajte Mars!"
   ]
  },
  {
   "cell_type": "markdown",
   "metadata": {},
   "source": [
    "## Matematické kyvadlo s odporom \n",
    "Nasimulujte matematické kyvadlo s odporom $\\gamma$,\n",
    "$$ \\ddot \\theta = -\\frac g l \\sin\\theta -\\gamma \\theta^2,$$\n",
    "za pomoci metódy `odeint`.\n",
    "\n",
    "Alebo pád telesa v odporovom prostredí:\n",
    "$$ a = -g - kv^2.$$"
   ]
  },
  {
   "cell_type": "code",
   "execution_count": null,
   "metadata": {
    "collapsed": true
   },
   "outputs": [],
   "source": [
    "from scipy.integrate import odeint\n",
    "\n",
    "def F(y, t, g, k):\n",
    "    return [y[1], g -k*y[1]**2]\n",
    "\n",
    "N = 101\n",
    "k = 1.0\n",
    "g = 10.0\n",
    "t = np.linspace(0, 1, N)\n",
    "y0 = [0.0, 0.0]\n",
    "y = odeint(F, y0, t, args=(g, k))\n",
    "\n",
    "plt.plot(t, y[:, 1])\n",
    "plt.xlabel(\"$t$\", fontsize=20)\n",
    "plt.ylabel(\"$v(t)$\", fontsize=20)\n",
    "plt.show()"
   ]
  },
  {
   "cell_type": "markdown",
   "metadata": {},
   "source": [
    "## Harmonický oscilátor pomocou metódy Leapfrog (modifikácia Verletovho algoritmu)"
   ]
  },
  {
   "cell_type": "code",
   "execution_count": null,
   "metadata": {
    "collapsed": true
   },
   "outputs": [],
   "source": [
    "N = 10000\n",
    "t = linspace(0,100,N)\n",
    "dt = t[1] - t[0]\n",
    "\n",
    "# Funkcie\n",
    "def integrate(F,x0,v0,gamma):\n",
    "    x = zeros(N)\n",
    "    v = zeros(N)\n",
    "    E = zeros(N)    \n",
    "    \n",
    "    # Počiatočné podmienky\n",
    "    x[0] = x0\n",
    "    v[0] = v0\n",
    "    \n",
    "    # Integrovanie rovníc pomocou metódy Leapfrog (wiki)\n",
    "    fac1 = 1.0 - 0.5*gamma*dt\n",
    "    fac2 = 1.0/(1.0 + 0.5*gamma*dt)\n",
    "    \n",
    "    for i in range(N-1):\n",
    "         v[i + 1] = fac1*fac2*v[i] - fac2*dt*x[i] + fac2*dt*F[i]\n",
    "         x[i + 1] = x[i] + dt*v[i + 1]\n",
    "         E[i] += 0.5*(x[i]**2 + ((v[i] + v[i+1])/2.0)**2)\n",
    "    \n",
    "    E[-1] = 0.5*(x[-1]**2 + v[-1]**2)\n",
    "    \n",
    "    # Vrátime riešenie\n",
    "    return x,v,E"
   ]
  },
  {
   "cell_type": "code",
   "execution_count": null,
   "metadata": {
    "collapsed": true
   },
   "outputs": [],
   "source": [
    "# Pozrime sa na tri rôzne počiatočné podmienky\n",
    "F = zeros(N)\n",
    "x1,v1,E1 = integrate(F,0.0,1.0,0.0) # x0 = 0.0, v0 = 1.0, gamma = 0.0\n",
    "x2,v2,E2 = integrate(F,0.0,1.0,0.05) # x0 = 0.0, v0 = 1.0, gamma = 0.01\n",
    "x3,v3,E3 = integrate(F,0.0,1.0,0.4) # x0 = 0.0, v0 = 1.0, gamma = 0.5\n",
    "\n",
    "# Nakreslime si grafy\n",
    "\n",
    "plt.rcParams[\"axes.grid\"] = True\n",
    "plt.rcParams['font.size'] = 14\n",
    "plt.rcParams['axes.labelsize'] = 18\n",
    "plt.figure()\n",
    "plt.subplot(211)\n",
    "plt.plot(t,x1)\n",
    "plt.plot(t,x2)\n",
    "plt.plot(t,x3)\n",
    "plt.ylabel(\"x(t)\")\n",
    "\n",
    "plt.subplot(212)\n",
    "plt.plot(t,E1,label=r\"$\\gamma = 0.0$\")\n",
    "plt.plot(t,E2,label=r\"$\\gamma = 0.01$\")\n",
    "plt.plot(t,E3,label=r\"$\\gamma = 0.5$\")\n",
    "plt.ylim(0,0.55)\n",
    "plt.ylabel(\"E(t)\")\n",
    "\n",
    "plt.xlabel(\"Čas\")\n",
    "plt.legend(loc=\"center right\")\n",
    "\n",
    "plt.tight_layout()"
   ]
  },
  {
   "cell_type": "markdown",
   "metadata": {},
   "source": [
    "A čo ak bude oscilátor aj tlmenný?"
   ]
  },
  {
   "cell_type": "code",
   "execution_count": null,
   "metadata": {
    "collapsed": true
   },
   "outputs": [],
   "source": [
    "def force(f0,t,w,T):\n",
    "          return f0*cos(w*t)*exp(-t**2/T**2) \n",
    "\n",
    "F1 = zeros(N)\n",
    "F2 = zeros(N)\n",
    "F3 = zeros(N)\n",
    "for i in range(N-1):\n",
    "    F1[i] = force(1.0,t[i] - 20.0,1.0,10.0)\n",
    "    F2[i] = force(1.0,t[i] - 20.0,0.9,10.0)\n",
    "    F3[i] = force(1.0,t[i] - 20.0,0.8,10.0)"
   ]
  },
  {
   "cell_type": "code",
   "execution_count": null,
   "metadata": {
    "collapsed": true
   },
   "outputs": [],
   "source": [
    "x1,v1,E1 = integrate(F1,0.0,0.0,0.0)\n",
    "x2,v2,E2 = integrate(F1,0.0,0.0,0.01)\n",
    "x3,v3,E3 = integrate(F1,0.0,0.0,0.1)\n",
    "\n",
    "plt.figure()\n",
    "plt.subplot(211)\n",
    "plt.plot(t,x1)\n",
    "plt.plot(t,x2)\n",
    "plt.plot(t,x3)\n",
    "plt.ylabel(\"x(t)\")\n",
    "\n",
    "plt.subplot(212)\n",
    "plt.plot(t,E1,label=r\"$\\gamma = 0$\")\n",
    "plt.plot(t,E2,label=r\"$\\gamma = 0.01$\")\n",
    "plt.plot(t,E3,label=r\"$\\gamma = 0.1$\")\n",
    "pt.ylabel(\"E(t)\")\n",
    "\n",
    "plt.xlabel(\"Time\")\n",
    "plt.rcParams['legend.fontsize'] = 14.0\n",
    "plt.legend(loc=\"upper left\")\n",
    "\n",
    "plt.show()"
   ]
  },
  {
   "cell_type": "markdown",
   "metadata": {},
   "source": [
    "# Lineárna algebra\n",
    "\n",
    "## Program na dnes\n",
    "\n",
    "* Matematické operácie s vektormi a maticami. Hľadanie vlastných čísel. \n",
    "* Zoznámenia sa s knižnicou `numpy`."
   ]
  },
  {
   "cell_type": "markdown",
   "metadata": {},
   "source": [
    "## Vektory"
   ]
  },
  {
   "cell_type": "code",
   "execution_count": null,
   "metadata": {
    "collapsed": true
   },
   "outputs": [],
   "source": [
    "a = np.array([1, 2, 3])\n",
    "print(a)\n",
    "print(type(a))\n",
    "\n",
    "b = np.array([2, 3, 4])\n",
    "print(a + b)    # spravne scitanie!"
   ]
  },
  {
   "cell_type": "raw",
   "metadata": {},
   "source": [
    "np.dot(a, b)    # skalarny sucin\n",
    "a.dot(b)"
   ]
  },
  {
   "cell_type": "code",
   "execution_count": null,
   "metadata": {
    "collapsed": true
   },
   "outputs": [],
   "source": [
    "np.cross(a, b)  # vektorovy sucin"
   ]
  },
  {
   "cell_type": "raw",
   "metadata": {},
   "source": [
    "np.outer(a, b)  # outer product (jak sa to povie po slovensky?), premyslite si"
   ]
  },
  {
   "cell_type": "markdown",
   "metadata": {},
   "source": [
    "## Matice"
   ]
  },
  {
   "cell_type": "raw",
   "metadata": {},
   "source": [
    "A = np.array([[0, 1], [1, 0]])\n",
    "print(A)\n",
    "type(A)"
   ]
  },
  {
   "cell_type": "raw",
   "metadata": {},
   "source": [
    "AA = np.matrix(A)   # premena na iny datovy typ\n",
    "type(AA)"
   ]
  },
  {
   "cell_type": "raw",
   "metadata": {},
   "source": [
    "B = np.array([[1, 0], [0, -1]])\n",
    "print(B)"
   ]
  },
  {
   "cell_type": "raw",
   "metadata": {},
   "source": [
    "np.dot(A, B)"
   ]
  },
  {
   "cell_type": "raw",
   "metadata": {},
   "source": [
    "# pozor!\n",
    "A*B"
   ]
  },
  {
   "cell_type": "raw",
   "metadata": {},
   "source": [
    "# Vlastnosti numpy matic\n",
    "len(A)   # pocet riadkov"
   ]
  },
  {
   "cell_type": "raw",
   "metadata": {},
   "source": [
    "A.shape   # rozmery"
   ]
  },
  {
   "cell_type": "raw",
   "metadata": {},
   "source": [
    "# uzitocne vektory/matice, konvencia z Matlabu\n",
    "N = 3\n",
    "np.ones(N)      # konstantny vektor"
   ]
  },
  {
   "cell_type": "raw",
   "metadata": {},
   "source": [
    "np.ones((N, N))    # jednotky\n"
   ]
  },
  {
   "cell_type": "raw",
   "metadata": {},
   "source": [
    "np.eye(N)       # identita\n"
   ]
  },
  {
   "cell_type": "raw",
   "metadata": {},
   "source": [
    "np.zeros((N, N+1))      # nulova matica NxN"
   ]
  },
  {
   "cell_type": "code",
   "execution_count": null,
   "metadata": {
    "collapsed": true
   },
   "outputs": [],
   "source": [
    "# spajanie matic\n",
    "A = np.ones((3, 3))\n",
    "B = np.eye(3)\n",
    "print(A, \"\\n\")\n",
    "print(B)\n",
    "np.hstack((A, B))"
   ]
  },
  {
   "cell_type": "markdown",
   "metadata": {},
   "source": [
    "### Prístup k prvkom"
   ]
  },
  {
   "cell_type": "raw",
   "metadata": {},
   "source": [
    "# Najprv si pripravime nase vektory\n",
    "A = np.arange(9)\n",
    "print(A)\n",
    "A = A.reshape((3, 3))\n",
    "A"
   ]
  },
  {
   "cell_type": "raw",
   "metadata": {
    "collapsed": true
   },
   "source": [
    "# Pri poliach by sme urobili A[1][1]. Pri vektoroch mozme pouzit aj A[1,1]. \n",
    "# Pri maticiach musime pouzit A[1,1], lebo A[1][1] vrati prekvapivy vysledok "
   ]
  },
  {
   "cell_type": "raw",
   "metadata": {},
   "source": [
    "A[1, 1]"
   ]
  },
  {
   "cell_type": "raw",
   "metadata": {},
   "source": [
    "A[1][1]"
   ]
  },
  {
   "cell_type": "raw",
   "metadata": {
    "scrolled": true
   },
   "source": [
    "A[-1, -1] = 10   # znovu vieme indexovat aj od zadu\n",
    "A"
   ]
  },
  {
   "cell_type": "raw",
   "metadata": {},
   "source": [
    "A[0, 0]"
   ]
  },
  {
   "cell_type": "raw",
   "metadata": {},
   "source": [
    "A[-3, -2]"
   ]
  },
  {
   "cell_type": "markdown",
   "metadata": {},
   "source": [
    "## Slicing\n",
    "\n",
    "Ako vyberať jednotlivé stĺpce a riadky matíc?"
   ]
  },
  {
   "cell_type": "raw",
   "metadata": {},
   "source": [
    "A = np.arange(9)\n",
    "A = A.reshape((3, 3))\n",
    "A"
   ]
  },
  {
   "cell_type": "raw",
   "metadata": {},
   "source": [
    "A[:, 0]    # Ak nechceme vyberat nejaky usek, pouzijeme dvojbodku."
   ]
  },
  {
   "cell_type": "raw",
   "metadata": {},
   "source": [
    "A[1, :]"
   ]
  },
  {
   "cell_type": "raw",
   "metadata": {},
   "source": [
    "A[[0, 2], :]   # Mozme pouzit aj pole na indexovanie"
   ]
  },
  {
   "cell_type": "raw",
   "metadata": {},
   "source": [
    "# zmena riadku\n",
    "A[:, 1] = 4\n",
    "A"
   ]
  },
  {
   "cell_type": "raw",
   "metadata": {},
   "source": [
    "# pripocitanie cisla k stlpcu\n",
    "for i in range(len(A)):\n",
    "    A[i, 2] += 100\n",
    "\n",
    "A"
   ]
  },
  {
   "cell_type": "raw",
   "metadata": {},
   "source": [
    "A = np.arange(25).reshape((5, 5))\n",
    "A"
   ]
  },
  {
   "cell_type": "raw",
   "metadata": {},
   "source": [
    "A[2:, 3]"
   ]
  },
  {
   "cell_type": "markdown",
   "metadata": {},
   "source": [
    "## Generovanie (pseudo)náhodných čísel"
   ]
  },
  {
   "cell_type": "raw",
   "metadata": {},
   "source": [
    "# cisla sa menie, pokial nefixneme seed!\n",
    "np.random.seed(12)\n",
    "\n",
    "N = 5\n",
    "a = 2*np.random.rand(N)   # v intervale [0,1]\n",
    "a"
   ]
  },
  {
   "cell_type": "raw",
   "metadata": {},
   "source": [
    "A = np.random.rand(N, N)\n",
    "A"
   ]
  },
  {
   "cell_type": "raw",
   "metadata": {},
   "source": [
    "a = np.random.randn(5)\n",
    "a"
   ]
  },
  {
   "cell_type": "raw",
   "metadata": {},
   "source": [
    "mu, sigma = 1.0, 2.0\n",
    "a = np.random.randn(1000)*sigma + mu\n",
    "plt.hist(a, bins=20)\n",
    "plt.show()"
   ]
  },
  {
   "cell_type": "raw",
   "metadata": {},
   "source": [
    "a = np.random.randint(10, size=1000)   # cele cisla, pozor na size!\n",
    "u = plt.hist(a)\n",
    "#plt.plot(u[1][1:], u[0])"
   ]
  },
  {
   "cell_type": "markdown",
   "metadata": {},
   "source": [
    "## Vlastné čísla\n",
    "\n",
    "$$ A v = \\lambda v$$\n",
    "Použijeme funkciu `eig`.\n",
    "\n",
    "Okrem nej existujú ešte funkcie na vlastné čísla symetrických alebo hermitovských matíc `eigs` a `eigh`."
   ]
  },
  {
   "cell_type": "code",
   "execution_count": null,
   "metadata": {
    "collapsed": true
   },
   "outputs": [],
   "source": [
    "from numpy.linalg import eig"
   ]
  },
  {
   "cell_type": "raw",
   "metadata": {},
   "source": [
    "N = 20\n",
    "A = np.random.rand(N, N)\n",
    "vals, vecs = eig(A)\n",
    "print(vals.real)"
   ]
  },
  {
   "cell_type": "markdown",
   "metadata": {
    "collapsed": true
   },
   "source": [
    "## Vlastné čísla náhodných matíc\n",
    "\n",
    "Vygenerujte (100x100) maticu náhodných čísel, získajte jej vlastné čísla a spravte z nich histogram.\n"
   ]
  },
  {
   "cell_type": "raw",
   "metadata": {},
   "source": [
    "N = 100\n",
    "A = np.random.rand(N, N)\n",
    "vals, vecs = eig(A)\n",
    "vals = np.real(vals)\n",
    "#print(vals)\n",
    "plt.hist(np.real(vals))\n",
    "plt.show()"
   ]
  }
 ],
 "metadata": {
  "anaconda-cloud": {},
  "kernelspec": {
   "display_name": "Python 3",
   "language": "python",
   "name": "python3"
  },
  "language_info": {
   "codemirror_mode": {
    "name": "ipython",
    "version": 3
   },
   "file_extension": ".py",
   "mimetype": "text/x-python",
   "name": "python",
   "nbconvert_exporter": "python",
   "pygments_lexer": "ipython3",
   "version": "3.6.3"
  }
 },
 "nbformat": 4,
 "nbformat_minor": 1
}
