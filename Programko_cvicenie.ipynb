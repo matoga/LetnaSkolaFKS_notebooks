{
 "cells": [
  {
   "cell_type": "markdown",
   "metadata": {},
   "source": [
    "# Programovanie\n",
    "\n",
    "Letná škola FKS 2018\n",
    "\n",
    "Maťo Gažo, Fero Dráček\n",
    "(& vykradnuté materiály od Mateja Badina, Feriho Hermana, Kuba, Peťa, Jarných škôl FX a kade-tade po internete)\n",
    "\n",
    "V tomto kurze si ukážeme základy programovania a naučíme sa programovať matematiku a fyziku.\n",
    "Takéto vedomosti sú skvelé a budete vďaka nim: \n",
    "* vedieť efektívnejšie robiť domáce úlohy\n",
    "* kvalitnejšie riešiť seminárové a olympiádové príklady\n",
    "* lepšie rozumieť svetu (IT je dnes na trhu najrýchlejšie rozvíjajúcim sa odvetvím)\n",
    "\n",
    "Počítač je blbý a treba mu všetko povedať a vysvetliť. Komunikovať sa s ním dá na viacerých úrovniach, my budeme používať Python. Python (názov odvodený z Monty Python's Flying Circus) je všeobecný programovací jazyk, ktorým sa dajú vytvárať webové stránky ako aj robiť seriózne vedecké výpočty. To znamená, že naučiť sa ho nie je na škodu a možno vás raz bude živiť.\n",
    "\n",
    "Rozhranie, v ktorom píšeme kód, sa volá Jupyter Notebook. Je to prostredie navrhnuté tak, aby sa dalo programovať doslova v prehliadači a aby sa kód dal kúskovať. Pre zbehnutie kúskov programu stačí stlačiť Shift+Enter. \n",
    "\n"
   ]
  },
  {
   "cell_type": "markdown",
   "metadata": {},
   "source": [
    "# Dátové typy a operátory"
   ]
  },
  {
   "cell_type": "markdown",
   "metadata": {},
   "source": [
    "### Čísla"
   ]
  },
  {
   "cell_type": "markdown",
   "metadata": {},
   "source": [
    " podľa očakávaní, vracia trojku"
   ]
  },
  {
   "cell_type": "code",
   "execution_count": 1,
   "metadata": {},
   "outputs": [
    {
     "data": {
      "text/plain": [
       "3"
      ]
     },
     "execution_count": 1,
     "metadata": {},
     "output_type": "execute_result"
    }
   ],
   "source": [
    "3"
   ]
  },
  {
   "cell_type": "code",
   "execution_count": 2,
   "metadata": {},
   "outputs": [
    {
     "data": {
      "text/plain": [
       "5"
      ]
     },
     "execution_count": 2,
     "metadata": {},
     "output_type": "execute_result"
    }
   ],
   "source": [
    "2+3 # scitanie"
   ]
  },
  {
   "cell_type": "code",
   "execution_count": 3,
   "metadata": {},
   "outputs": [
    {
     "data": {
      "text/plain": [
       "4"
      ]
     },
     "execution_count": 3,
     "metadata": {},
     "output_type": "execute_result"
    }
   ],
   "source": [
    "6-2 # odcitanie"
   ]
  },
  {
   "cell_type": "code",
   "execution_count": 4,
   "metadata": {},
   "outputs": [
    {
     "data": {
      "text/plain": [
       "20"
      ]
     },
     "execution_count": 4,
     "metadata": {},
     "output_type": "execute_result"
    }
   ],
   "source": [
    "10*2 # nasobenie"
   ]
  },
  {
   "cell_type": "code",
   "execution_count": 5,
   "metadata": {},
   "outputs": [
    {
     "data": {
      "text/plain": [
       "7.0"
      ]
     },
     "execution_count": 5,
     "metadata": {},
     "output_type": "execute_result"
    }
   ],
   "source": [
    "35/5 # delenie"
   ]
  },
  {
   "cell_type": "code",
   "execution_count": 6,
   "metadata": {},
   "outputs": [
    {
     "data": {
      "text/plain": [
       "1"
      ]
     },
     "execution_count": 6,
     "metadata": {},
     "output_type": "execute_result"
    }
   ],
   "source": [
    "5//3 # celociselne delenie TODO je toto treba?"
   ]
  },
  {
   "cell_type": "code",
   "execution_count": 7,
   "metadata": {},
   "outputs": [
    {
     "data": {
      "text/plain": [
       "1"
      ]
     },
     "execution_count": 7,
     "metadata": {},
     "output_type": "execute_result"
    }
   ],
   "source": [
    "7%3 # modulo"
   ]
  },
  {
   "cell_type": "code",
   "execution_count": 8,
   "metadata": {},
   "outputs": [
    {
     "data": {
      "text/plain": [
       "8"
      ]
     },
     "execution_count": 8,
     "metadata": {},
     "output_type": "execute_result"
    }
   ],
   "source": [
    "2**3 # umocnovanie"
   ]
  },
  {
   "cell_type": "code",
   "execution_count": 9,
   "metadata": {},
   "outputs": [
    {
     "data": {
      "text/plain": [
       "20"
      ]
     },
     "execution_count": 9,
     "metadata": {},
     "output_type": "execute_result"
    }
   ],
   "source": [
    "4 * (2 + 3) # poradie dodrzane"
   ]
  },
  {
   "cell_type": "markdown",
   "metadata": {},
   "source": [
    "### Logické výrazy"
   ]
  },
  {
   "cell_type": "code",
   "execution_count": 10,
   "metadata": {},
   "outputs": [
    {
     "data": {
      "text/plain": [
       "True"
      ]
     },
     "execution_count": 10,
     "metadata": {},
     "output_type": "execute_result"
    }
   ],
   "source": [
    "1 == 1 # logicka rovnost"
   ]
  },
  {
   "cell_type": "code",
   "execution_count": 11,
   "metadata": {},
   "outputs": [
    {
     "data": {
      "text/plain": [
       "True"
      ]
     },
     "execution_count": 11,
     "metadata": {},
     "output_type": "execute_result"
    }
   ],
   "source": [
    "2 != 3 # logicka nerovnost"
   ]
  },
  {
   "cell_type": "code",
   "execution_count": 12,
   "metadata": {},
   "outputs": [
    {
     "data": {
      "text/plain": [
       "True"
      ]
     },
     "execution_count": 12,
     "metadata": {},
     "output_type": "execute_result"
    }
   ],
   "source": [
    "1 < 10"
   ]
  },
  {
   "cell_type": "code",
   "execution_count": 13,
   "metadata": {},
   "outputs": [
    {
     "data": {
      "text/plain": [
       "False"
      ]
     },
     "execution_count": 13,
     "metadata": {},
     "output_type": "execute_result"
    }
   ],
   "source": [
    "1 > 10"
   ]
  },
  {
   "cell_type": "code",
   "execution_count": 14,
   "metadata": {},
   "outputs": [
    {
     "data": {
      "text/plain": [
       "True"
      ]
     },
     "execution_count": 14,
     "metadata": {},
     "output_type": "execute_result"
    }
   ],
   "source": [
    "2 <= 2"
   ]
  },
  {
   "cell_type": "markdown",
   "metadata": {},
   "source": [
    "# Premenné"
   ]
  },
  {
   "cell_type": "markdown",
   "metadata": {},
   "source": [
    "Toto je premenná.\n",
    "\n",
    "Po stlačení Shift+Enter program v okienku zbehne a premenná sa uloží do pamäte (RAMky, všetko sa deje na RAMke)."
   ]
  },
  {
   "cell_type": "code",
   "execution_count": 15,
   "metadata": {},
   "outputs": [],
   "source": [
    "a = 2"
   ]
  },
  {
   "cell_type": "markdown",
   "metadata": {},
   "source": [
    "Teraz s ňou možno pracovať ako s bežným číslom."
   ]
  },
  {
   "cell_type": "code",
   "execution_count": 16,
   "metadata": {},
   "outputs": [
    {
     "data": {
      "text/plain": [
       "4"
      ]
     },
     "execution_count": 16,
     "metadata": {},
     "output_type": "execute_result"
    }
   ],
   "source": [
    "2 * a"
   ]
  },
  {
   "cell_type": "code",
   "execution_count": 17,
   "metadata": {},
   "outputs": [
    {
     "data": {
      "text/plain": [
       "4"
      ]
     },
     "execution_count": 17,
     "metadata": {},
     "output_type": "execute_result"
    }
   ],
   "source": [
    "a + a"
   ]
  },
  {
   "cell_type": "code",
   "execution_count": 18,
   "metadata": {},
   "outputs": [
    {
     "data": {
      "text/plain": [
       "6"
      ]
     },
     "execution_count": 18,
     "metadata": {},
     "output_type": "execute_result"
    }
   ],
   "source": [
    "a + a*a"
   ]
  },
  {
   "cell_type": "markdown",
   "metadata": {},
   "source": [
    "Možno ju aj umocniť."
   ]
  },
  {
   "cell_type": "code",
   "execution_count": 19,
   "metadata": {},
   "outputs": [
    {
     "data": {
      "text/plain": [
       "8"
      ]
     },
     "execution_count": 19,
     "metadata": {},
     "output_type": "execute_result"
    }
   ],
   "source": [
    "a**3"
   ]
  },
  {
   "cell_type": "markdown",
   "metadata": {},
   "source": [
    "Pridajme druhú premennú."
   ]
  },
  {
   "cell_type": "code",
   "execution_count": 20,
   "metadata": {},
   "outputs": [],
   "source": [
    "b = 5"
   ]
  },
  {
   "cell_type": "markdown",
   "metadata": {},
   "source": [
    "Nasledovné výpočty dopadnú podľa očakávaní."
   ]
  },
  {
   "cell_type": "code",
   "execution_count": 21,
   "metadata": {},
   "outputs": [
    {
     "data": {
      "text/plain": [
       "7"
      ]
     },
     "execution_count": 21,
     "metadata": {},
     "output_type": "execute_result"
    }
   ],
   "source": [
    "a + b"
   ]
  },
  {
   "cell_type": "code",
   "execution_count": 22,
   "metadata": {},
   "outputs": [
    {
     "data": {
      "text/plain": [
       "10"
      ]
     },
     "execution_count": 22,
     "metadata": {},
     "output_type": "execute_result"
    }
   ],
   "source": [
    "a * b"
   ]
  },
  {
   "cell_type": "code",
   "execution_count": 23,
   "metadata": {},
   "outputs": [
    {
     "data": {
      "text/plain": [
       "25"
      ]
     },
     "execution_count": 23,
     "metadata": {},
     "output_type": "execute_result"
    }
   ],
   "source": [
    "b**a"
   ]
  },
  {
   "cell_type": "markdown",
   "metadata": {},
   "source": [
    "Reálne čísla môžeme zobrazovať aj vo vedeckej forme: $2.3\\times 10^{-3}$."
   ]
  },
  {
   "cell_type": "code",
   "execution_count": 24,
   "metadata": {},
   "outputs": [],
   "source": [
    "d = 2.3e-3"
   ]
  },
  {
   "cell_type": "markdown",
   "metadata": {},
   "source": [
    "# Funkcie\n",
    "\n",
    "Spravme si jednoduchú funkciu, ktorá za nás sčíta dve čísla, aby sme sa s tým už nemuseli trápiť my:"
   ]
  },
  {
   "cell_type": "code",
   "execution_count": 25,
   "metadata": {},
   "outputs": [],
   "source": [
    "def scitaj(a, b):\n",
    "    return a + b"
   ]
  },
  {
   "cell_type": "code",
   "execution_count": 26,
   "metadata": {},
   "outputs": [
    {
     "data": {
      "text/plain": [
       "22"
      ]
     },
     "execution_count": 26,
     "metadata": {},
     "output_type": "execute_result"
    }
   ],
   "source": [
    "scitaj(10, 12) # vrati sucet"
   ]
  },
  {
   "cell_type": "markdown",
   "metadata": {},
   "source": [
    "Funkcia funguje na celých aj reálnych číslach."
   ]
  },
  {
   "cell_type": "markdown",
   "metadata": {},
   "source": [
    "Naša sčítacia funkcia má __štyri podstatné veci__:\n",
    "1. `def`: toto slovo definuje funkciu.\n",
    "2. dvojbodka na konci prvého riadku, odtiaľ začína definícia.\n",
    "3. Odsadenie kódu vnútri funkcie o štyri medzery.\n",
    "4. Samotný kód. V ňom sa môže diať čokoľvek, Python ho postupne prechádza.\n",
    "5. `return`: kľúčová vec. Za toto slovo sa píše, čo je output funkcie."
   ]
  },
  {
   "cell_type": "markdown",
   "metadata": {},
   "source": [
    "### Úloha 1\n",
    "Napíšte funkciu `priemer`, ktorá zoberie dve čísla (výšky dvoch chlapcov) a vypočíta ich priemernú výšku.\n",
    "\n",
    "Ak máš úlohu hotovú, prihlás sa vedúcemu."
   ]
  },
  {
   "cell_type": "code",
   "execution_count": 27,
   "metadata": {},
   "outputs": [
    {
     "data": {
      "text/plain": [
       "55.0"
      ]
     },
     "execution_count": 27,
     "metadata": {},
     "output_type": "execute_result"
    }
   ],
   "source": [
    "# Tvoje riesenie:\n",
    "\n"
   ]
  },
  {
   "cell_type": "markdown",
   "metadata": {},
   "source": [
    "# Poďme na fyziku\n",
    "\n",
    "V tomto momente môžeme začať používať Python ako sofistikovanejšiu kalkulačku a počítať ňoz základné fyzikálne problémy. \n",
    "Jednoduchý príklad s ktorým začneme: dostanete zadaných niekoľko fyziklánych konštánt ako **premenné**.\n",
    "Predstavte si, že máte za úlohou vypočítať nejakú fyzikálnu veličinu pre niekoľko zadaných hodnôt. Veľmi pohodné je napísať si funkciu, do ktorej vždy zadáme počiatočné hodnoty."
   ]
  },
  {
   "cell_type": "markdown",
   "metadata": {},
   "source": [
    "Zadané konštanty"
   ]
  },
  {
   "cell_type": "code",
   "execution_count": 28,
   "metadata": {},
   "outputs": [],
   "source": [
    "kb=1.38064852e-23           # Boltzmanova konštanta\n",
    "G=6.67408e-11               # Gravitačná konštanta"
   ]
  },
  {
   "cell_type": "markdown",
   "metadata": {},
   "source": [
    "## Úloha 2\n",
    "Napíšte funkciu kotrá spočíta gravitačnú silu medzi dvomi telesami pre zadanú vzdialenosť $r$ a hmotnosti $m_1$ a $m_2$.\n",
    "\n",
    "Pripomíname, vzorec pre výpočet gravitačnej  sily je\n",
    "$F=G \\frac{m_1 m_2}{r^2}$"
   ]
  },
  {
   "cell_type": "code",
   "execution_count": 29,
   "metadata": {},
   "outputs": [
    {
     "data": {
      "text/plain": [
       "6.67408e-13"
      ]
     },
     "execution_count": 29,
     "metadata": {},
     "output_type": "execute_result"
    }
   ],
   "source": [
    "# Tvoje riesenie:\n",
    "\n"
   ]
  },
  {
   "cell_type": "markdown",
   "metadata": {},
   "source": [
    "## Úloha 3\n",
    "Napíšte funkciu kotrá spočíta tlak v nádobe s objemom $V$, teplotou $T$ v ktorej je $N$ častíc.\n",
    "\n",
    "Pripomíname, vzorec pre výpočet tlaku je\n",
    "$p=\\frac{N kb T}{V}$"
   ]
  },
  {
   "cell_type": "code",
   "execution_count": 30,
   "metadata": {},
   "outputs": [
    {
     "data": {
      "text/plain": [
       "2236.6506024"
      ]
     },
     "execution_count": 30,
     "metadata": {},
     "output_type": "execute_result"
    }
   ],
   "source": [
    "# tvoje riesenie:\n"
   ]
  },
  {
   "cell_type": "markdown",
   "metadata": {},
   "source": [
    "## Úloha 4\n",
    "Napíšte funkciu ktor vráti výslednú rýchlosti dvoch guličiek po dokonale pružnej zrážkeô vypočítane z hmotností a rýchlostí týchto guličiek pred zrážkou.\n",
    "\n",
    "$v_1=\\frac{u_1 (m_1-m_2)+2 m_2u_2}{m_1+m_2}$\n",
    "\n",
    "$v_2=\\frac{u_2 (m_2-m_1)+2 m_1u_1}{m_1+m_2}$"
   ]
  },
  {
   "cell_type": "code",
   "execution_count": 31,
   "metadata": {},
   "outputs": [
    {
     "data": {
      "text/plain": [
       "(-10.0, 10.0)"
      ]
     },
     "execution_count": 31,
     "metadata": {},
     "output_type": "execute_result"
    }
   ],
   "source": [
    "# tvoje riesenie:\n"
   ]
  },
  {
   "cell_type": "markdown",
   "metadata": {},
   "source": [
    "# Zoznamy\n",
    "\n",
    "Zatiaľ sme sa zoznámili s číslami (celé, reálne), stringami a trochu aj logickými hodnotami.\n",
    "Zo všetkých týchto prvkov vieme vytvárať množiny, v informatickom jazyku `zoznamy`.\n",
    "\n",
    "Na úvod sa teda pozrieme, ako s vytvára zoznam (po anglicky `list`). Takúto vec všeobecne nazývame dátová štruktúra."
   ]
  },
  {
   "cell_type": "code",
   "execution_count": 32,
   "metadata": {},
   "outputs": [],
   "source": [
    "li = [] # prazdny list"
   ]
  },
  {
   "cell_type": "code",
   "execution_count": 33,
   "metadata": {},
   "outputs": [],
   "source": [
    "ve = [4, 2, 3] # list s cislami"
   ]
  },
  {
   "cell_type": "code",
   "execution_count": 34,
   "metadata": {},
   "outputs": [
    {
     "data": {
      "text/plain": [
       "[4, 2, 3]"
      ]
     },
     "execution_count": 34,
     "metadata": {},
     "output_type": "execute_result"
    }
   ],
   "source": [
    "ve"
   ]
  },
  {
   "cell_type": "code",
   "execution_count": 35,
   "metadata": {},
   "outputs": [
    {
     "data": {
      "text/plain": [
       "4"
      ]
     },
     "execution_count": 35,
     "metadata": {},
     "output_type": "execute_result"
    }
   ],
   "source": [
    "ve[0] # indexovat zaciname nulou!"
   ]
  },
  {
   "cell_type": "code",
   "execution_count": 36,
   "metadata": {},
   "outputs": [
    {
     "data": {
      "text/plain": [
       "2"
      ]
     },
     "execution_count": 36,
     "metadata": {},
     "output_type": "execute_result"
    }
   ],
   "source": [
    "ve[1]"
   ]
  },
  {
   "cell_type": "code",
   "execution_count": 57,
   "metadata": {},
   "outputs": [
    {
     "data": {
      "text/plain": [
       "10"
      ]
     },
     "execution_count": 57,
     "metadata": {},
     "output_type": "execute_result"
    }
   ],
   "source": [
    "ve[-1] # vybratie posledneho prvku"
   ]
  },
  {
   "cell_type": "code",
   "execution_count": 58,
   "metadata": {},
   "outputs": [],
   "source": [
    "w = [5, 10, 15]"
   ]
  },
  {
   "cell_type": "markdown",
   "metadata": {},
   "source": [
    "Čo sa sa stane, ak zoznamy sčítame? Spoja sa."
   ]
  },
  {
   "cell_type": "code",
   "execution_count": 59,
   "metadata": {},
   "outputs": [
    {
     "data": {
      "text/plain": [
       "[4, 2, 3, 10, 5, 10, 15]"
      ]
     },
     "execution_count": 59,
     "metadata": {},
     "output_type": "execute_result"
    }
   ],
   "source": [
    "ve + w"
   ]
  },
  {
   "cell_type": "markdown",
   "metadata": {},
   "source": [
    "Môžeme ich násobiť?"
   ]
  },
  {
   "cell_type": "code",
   "execution_count": 60,
   "metadata": {},
   "outputs": [
    {
     "ename": "TypeError",
     "evalue": "can't multiply sequence by non-int of type 'list'",
     "output_type": "error",
     "traceback": [
      "\u001b[0;31m---------------------------------------------------------------------------\u001b[0m",
      "\u001b[0;31mTypeError\u001b[0m                                 Traceback (most recent call last)",
      "\u001b[0;32m<ipython-input-60-4df1141bee22>\u001b[0m in \u001b[0;36m<module>\u001b[0;34m()\u001b[0m\n\u001b[0;32m----> 1\u001b[0;31m \u001b[0mve\u001b[0m \u001b[0;34m*\u001b[0m \u001b[0mve\u001b[0m\u001b[0;34m\u001b[0m\u001b[0m\n\u001b[0m",
      "\u001b[0;31mTypeError\u001b[0m: can't multiply sequence by non-int of type 'list'"
     ]
    }
   ],
   "source": [
    "ve * ve"
   ]
  },
  {
   "cell_type": "markdown",
   "metadata": {},
   "source": [
    "Smola, nemôžeme. Ale všimnime si, aká užitočná je chybová hláška. Jasne nám hovorí, že nemožno násobiť `list`y."
   ]
  },
  {
   "cell_type": "markdown",
   "metadata": {},
   "source": [
    "So zoznamami môžeme robiť rôzne iné užitočné veci. Napríklad ich sčítať."
   ]
  },
  {
   "cell_type": "code",
   "execution_count": 61,
   "metadata": {},
   "outputs": [
    {
     "data": {
      "text/plain": [
       "19"
      ]
     },
     "execution_count": 61,
     "metadata": {},
     "output_type": "execute_result"
    }
   ],
   "source": [
    "sum(ve)"
   ]
  },
  {
   "cell_type": "markdown",
   "metadata": {},
   "source": [
    "Alebo zistiť dĺžku:"
   ]
  },
  {
   "cell_type": "code",
   "execution_count": 62,
   "metadata": {},
   "outputs": [
    {
     "data": {
      "text/plain": [
       "4"
      ]
     },
     "execution_count": 62,
     "metadata": {},
     "output_type": "execute_result"
    }
   ],
   "source": [
    "len(ve)"
   ]
  },
  {
   "cell_type": "markdown",
   "metadata": {},
   "source": [
    "Alebo ich utriediť:"
   ]
  },
  {
   "cell_type": "markdown",
   "metadata": {},
   "source": [
    "Alebo na koniec pridať nový prvok:"
   ]
  },
  {
   "cell_type": "code",
   "execution_count": 63,
   "metadata": {},
   "outputs": [
    {
     "data": {
      "text/plain": [
       "[4, 2, 3, 10, 10]"
      ]
     },
     "execution_count": 63,
     "metadata": {},
     "output_type": "execute_result"
    }
   ],
   "source": [
    "ve.append(10)\n",
    "ve"
   ]
  },
  {
   "cell_type": "markdown",
   "metadata": {},
   "source": [
    "Alebo odobrať:"
   ]
  },
  {
   "cell_type": "markdown",
   "metadata": {},
   "source": [
    "### Interval\n"
   ]
  },
  {
   "cell_type": "markdown",
   "metadata": {},
   "source": [
    "Zoznam možno zadefinovať cez rozsah:"
   ]
  },
  {
   "cell_type": "code",
   "execution_count": 64,
   "metadata": {},
   "outputs": [
    {
     "data": {
      "text/plain": [
       "range"
      ]
     },
     "execution_count": 64,
     "metadata": {},
     "output_type": "execute_result"
    }
   ],
   "source": [
    "range(10)\n",
    "type(range(10))"
   ]
  },
  {
   "cell_type": "code",
   "execution_count": 65,
   "metadata": {},
   "outputs": [
    {
     "data": {
      "text/plain": [
       "[0, 1, 2, 3, 4, 5, 6, 7, 8, 9]"
      ]
     },
     "execution_count": 65,
     "metadata": {},
     "output_type": "execute_result"
    }
   ],
   "source": [
    "list(range(10))"
   ]
  },
  {
   "cell_type": "code",
   "execution_count": 66,
   "metadata": {},
   "outputs": [
    {
     "data": {
      "text/plain": [
       "[3, 4, 5, 6, 7, 8]"
      ]
     },
     "execution_count": 66,
     "metadata": {},
     "output_type": "execute_result"
    }
   ],
   "source": [
    "list(range(3, 9))"
   ]
  },
  {
   "cell_type": "markdown",
   "metadata": {},
   "source": [
    "## Úloha 5\n",
    "Spočítajte:\n",
    "* súčet všetkých čísel od 1 do 1000.\n",
    "\n",
    "Vytvorte zoznam `letnaskola`, ktorý bude obsahovať vašich 5 obľúbených celých čísel. \n",
    "* Pridajte na koniec zoznamu číslo 100\n",
    "* Prepíšte prvé číslo v zozname tak, aby sa rovnalo poslednému v zozname.\n",
    "* Vypočítajte súčet prvého čísla, posledného čísla a dĺžky zoznamu."
   ]
  },
  {
   "cell_type": "code",
   "execution_count": 68,
   "metadata": {},
   "outputs": [
    {
     "name": "stdout",
     "output_type": "stream",
     "text": [
      "500500\n",
      "[1, 1995, 12, 6, 42]\n",
      "[1, 1995, 12, 6, 42, 100]\n",
      "[100, 1995, 12, 6, 42, 100]\n",
      "200 6\n"
     ]
    }
   ],
   "source": [
    "# Tvoje riesenie:\n"
   ]
  },
  {
   "cell_type": "markdown",
   "metadata": {},
   "source": [
    "# For cyklus\n",
    "\n",
    "Indexy zoznamu môžeme postupne prechádzať. For cyklus je tzv. `iterátor`, ktorý iteruje cez zoznam."
   ]
  },
  {
   "cell_type": "code",
   "execution_count": 218,
   "metadata": {},
   "outputs": [
    {
     "name": "stdout",
     "output_type": "stream",
     "text": [
      "2\n",
      "5\n",
      "7\n",
      "8\n",
      "10\n",
      "11\n",
      "14\n",
      "18\n",
      "20\n",
      "25\n"
     ]
    }
   ],
   "source": [
    "for i in li:\n",
    "    print(i)"
   ]
  },
  {
   "cell_type": "code",
   "execution_count": 219,
   "metadata": {},
   "outputs": [
    {
     "name": "stdout",
     "output_type": "stream",
     "text": [
      "4\n",
      "25\n",
      "49\n",
      "64\n",
      "100\n",
      "121\n",
      "196\n",
      "324\n",
      "400\n",
      "625\n"
     ]
    }
   ],
   "source": [
    "for i in li:\n",
    "    print(i**2)"
   ]
  },
  {
   "cell_type": "markdown",
   "metadata": {},
   "source": [
    "Ako úspešne vytvoriť For cyklus? Podobne, ako pri funkciách:\n",
    "\n",
    "* `for`: toto slovo je na začiatku.\n",
    "* `i`: iterovana velicina\n",
    "* `in`: pred zoznamom, cez ktorý prechádzame (iterujeme).\n",
    "* dvojbodka na konci prvého riadku.\n",
    "* kod, ktory sa cykli sa odsadzuje o štyri medzery."
   ]
  },
  {
   "cell_type": "markdown",
   "metadata": {},
   "source": [
    "Za pomoci for cyklu môžeme takisto sčítať čísla. Napr. čísla od 0 do 100:"
   ]
  },
  {
   "cell_type": "code",
   "execution_count": 220,
   "metadata": {},
   "outputs": [
    {
     "name": "stdout",
     "output_type": "stream",
     "text": [
      "5050\n"
     ]
    }
   ],
   "source": [
    "suma = 0\n",
    "\n",
    "for i in range(101):   # uvedomme si, preco tam je 101 a nie 100\n",
    "    suma = suma + i      # skratene sum += i\n",
    "    \n",
    "print(suma)"
   ]
  },
  {
   "cell_type": "markdown",
   "metadata": {
    "nbpresent": {
     "id": "3e4eea1e-be15-48c6-b0ee-a9f00b5d1888"
    },
    "slideshow": {
     "slide_type": "slide"
    }
   },
   "source": [
    "## Hľadanie hodnoty zlatého rezu $\\varphi$\n",
    "\n",
    "Jednoduché cvičenie na oboznámenie sa s tzv. selfkonzistentným problémom a for cyklom.\n",
    "Zlatý rez je možné nájsť ako riešienie rovnice\n",
    "$x=1+1/x$\n",
    "Jej riešenie vieme hladať postupným iterovaním"
   ]
  },
  {
   "cell_type": "code",
   "execution_count": 221,
   "metadata": {
    "nbpresent": {
     "id": "eebec52d-a725-41ec-b458-4fa3a3f3e606"
    },
    "slideshow": {
     "slide_type": "slide"
    }
   },
   "outputs": [
    {
     "name": "stdout",
     "output_type": "stream",
     "text": [
      "2.0\n",
      "1.5\n",
      "1.6666666666666665\n",
      "1.6\n",
      "1.625\n",
      "1.6153846153846154\n",
      "1.619047619047619\n",
      "1.6176470588235294\n",
      "1.6181818181818182\n",
      "1.6179775280898876\n",
      "1.6180555555555556\n",
      "1.6180257510729614\n",
      "1.6180371352785146\n",
      "1.6180327868852458\n",
      "1.618034447821682\n",
      "1.618033813400125\n",
      "1.6180340557275543\n",
      "1.6180339631667064\n",
      "1.6180339985218035\n",
      "1.618033985017358\n"
     ]
    }
   ],
   "source": [
    "x = 1;\n",
    "\n",
    "for i in range (0,20):\n",
    "    x = 1+1/x\n",
    "    print (x)"
   ]
  },
  {
   "cell_type": "markdown",
   "metadata": {},
   "source": [
    "## Úloha 6\n",
    "Spočítajte súčet druhých mocnín všetkých nepárnych čísel od 1 do 100 s využitím for cyklu."
   ]
  },
  {
   "cell_type": "code",
   "execution_count": 69,
   "metadata": {},
   "outputs": [
    {
     "name": "stdout",
     "output_type": "stream",
     "text": [
      "166650\n"
     ]
    }
   ],
   "source": [
    "# Tvoje riesenie:\n"
   ]
  },
  {
   "cell_type": "markdown",
   "metadata": {},
   "source": [
    "## Úloha 7\n",
    "### Dvojhlavý tank (FKS 30.2.2.A2)\n",
    "Nevieme odkiaľ, no máme bombastický tank, ktorý má dve hlavne namierené opačným smerom – samozrejme tak, že nemieria proti sebe ;-). V tanku je\n",
    "$N = 42$ nábojov s hmotnosťou $m= 20$ kg. Tank s nábojmi váži dokopy\n",
    "$M= 43$ t. Potom tank začne strieľať striedavo z hlavní náboje rýchlosťou v= 1 000 m s frekvenciou strieľania $f= 0.2$ Hz. Keďže tank je nezabrzdený a dobre naolejovaný, začne sa pohybovať. \n",
    "Ako ďaleko od pôvodného miesta vystrelí posledný náboj? Akej veľkej chyby by sme sa dopustili,\n",
    "ak by sme zanedbali zmenu celkovej hmotnosti tanku počas strieľania?\n",
    "\n",
    "Hint: http://old.fks.sk/archiv/2014_15/30vzorakyLeto2.pdf , strana 10"
   ]
  },
  {
   "cell_type": "code",
   "execution_count": 223,
   "metadata": {},
   "outputs": [
    {
     "name": "stdout",
     "output_type": "stream",
     "text": [
      "48.83697212654822\n"
     ]
    }
   ],
   "source": [
    "#tvoje riesenie"
   ]
  },
  {
   "cell_type": "markdown",
   "metadata": {},
   "source": [
    "# Podmienky\n",
    "\n",
    "Pochopíme ich na príklade. Zmeňte `a` a zistite, čo to spraví."
   ]
  },
  {
   "cell_type": "code",
   "execution_count": 224,
   "metadata": {
    "scrolled": true
   },
   "outputs": [
    {
     "name": "stdout",
     "output_type": "stream",
     "text": [
      "cislo a je rovne piatim\n"
     ]
    }
   ],
   "source": [
    "a = 5\n",
    "\n",
    "if a == 3:\n",
    "    print(\"cislo a je rovne trom.\")\n",
    "elif a == 5:\n",
    "    print(\"cislo a je rovne piatim\")\n",
    "else:\n",
    "    print(\"cislo a nie je rovne trom ani piatim.\")"
   ]
  },
  {
   "cell_type": "markdown",
   "metadata": {},
   "source": [
    "Za pomoci podmienky teraz môžeme z for cyklu vypísať napr. len párne čísla. Párne číslo identifikujeme ako také, ktoré po delení dvomi dáva zvyšok nula.\n",
    "\n",
    "Pre zvyšok po delení sa používa percento:"
   ]
  },
  {
   "cell_type": "code",
   "execution_count": 225,
   "metadata": {},
   "outputs": [
    {
     "name": "stdout",
     "output_type": "stream",
     "text": [
      "0\n",
      "2\n",
      "4\n",
      "6\n",
      "8\n"
     ]
    }
   ],
   "source": [
    "for i in range(10):\n",
    "    if i % 2 == 0:\n",
    "        print(i)"
   ]
  },
  {
   "cell_type": "markdown",
   "metadata": {},
   "source": [
    "Cyklus mozeme zastavit, ak sa porusi nejaka podmienka"
   ]
  },
  {
   "cell_type": "code",
   "execution_count": 226,
   "metadata": {},
   "outputs": [
    {
     "name": "stdout",
     "output_type": "stream",
     "text": [
      "0\n",
      "1\n",
      "2\n",
      "3\n",
      "4\n",
      "5\n",
      "6\n",
      "7\n",
      "8\n",
      "9\n",
      "10\n",
      "11\n",
      "Koniec.\n"
     ]
    }
   ],
   "source": [
    "for i in range(20):\n",
    "    print(i)\n",
    "    if i>10:\n",
    "        print('Koniec.')\n",
    "        break"
   ]
  },
  {
   "cell_type": "markdown",
   "metadata": {
    "nbpresent": {
     "id": "35162a6f-ee4e-4780-b11d-7fd2b7ec1204"
    },
    "slideshow": {
     "slide_type": "slide"
    }
   },
   "source": [
    "## Hľadanie hodnoty Ludolfovho čísla $\\pi$\n",
    "Pomocou Monte Carlo metódy integrovania sa naučíme ako napríklad vypočítať $\\pi$.\n",
    "Nasledujúce príkazy vygenerujú zoznam náhodných čísel od nula po jeden\n"
   ]
  },
  {
   "cell_type": "code",
   "execution_count": 229,
   "metadata": {
    "nbpresent": {
     "id": "ead10157-1781-43ec-8be1-6b0e2c1b8ca6"
    },
    "slideshow": {
     "slide_type": "slide"
    }
   },
   "outputs": [],
   "source": [
    "import random as rnd\n",
    "import numpy as np\n",
    "\n",
    "NOP = 50000\n",
    "\n",
    "CoordXList = [];\n",
    "CoordYList = [];\n",
    "\n",
    "for j in range (NOP):\n",
    "    CoordXList.append(rnd.random())\n",
    "    CoordYList.append(rnd.random())"
   ]
  },
  {
   "cell_type": "markdown",
   "metadata": {},
   "source": [
    "Tieto dva zoznamy použijeme ako $x$-ové a $y$-ové súradnice bodov v rovnine. Kedže náhodné rozdelenie bodov je rovnomerné, tak pomer bodov, ktoré sa nachádzajú vnútri štvrťkružnice s polomerom jedna ku všetkým bodom musí byť rovnaký ako pomer plochy štvrťkruhu a štvroca. \n",
    "Teda $$\\frac{\\frac{1}{4}\\pi 1^2}{1^2}\\stackrel{!}{=}\\frac{N_{in}}{NOP}.$$\n",
    "Nasledujúce dve bunky vygenerujú obrázok rozloženia bodov a stvrťkružnicu"
   ]
  },
  {
   "cell_type": "code",
   "execution_count": 230,
   "metadata": {
    "nbpresent": {
     "id": "9824b9ac-efea-4e37-85a1-cf2707707282"
    },
    "slideshow": {
     "slide_type": "-"
    }
   },
   "outputs": [],
   "source": [
    "CircPhi = np.arange(0,np.pi/2,0.01)"
   ]
  },
  {
   "cell_type": "code",
   "execution_count": 233,
   "metadata": {
    "nbpresent": {
     "id": "de34c0b2-9961-4c2d-9cfd-adead4c004e8"
    },
    "slideshow": {
     "slide_type": "slide"
    }
   },
   "outputs": [
    {
     "data": {
      "image/png": "[encoded data removed]",
      "text/plain": [
       "<Figure size 504x504 with 1 Axes>"
      ]
     },
     "metadata": {},
     "output_type": "display_data"
    }
   ],
   "source": [
    "import matplotlib.pyplot as plt\n",
    "f1=plt.figure(figsize=(7,7))\n",
    "\n",
    "plt.plot(\n",
    "    CoordXList,\n",
    "    CoordYList,\n",
    "    color = \"red\",\n",
    "    linestyle= \"none\",\n",
    "    marker = \",\"\n",
    ")\n",
    "plt.plot(np.cos(CircPhi),np.sin(CircPhi))\n",
    "#plt.axis([0, 1, 0, 1])\n",
    "#plt.axes().set_aspect('equal', 'datalim')\n",
    "plt.show(f1)"
   ]
  },
  {
   "cell_type": "markdown",
   "metadata": {},
   "source": [
    "## Úloha 8\n",
    "Teraz je vašou úlohou spočítať $\\pi$. Hint: bod je vnútri štvrťkružnice pokiaľ platí $x^2+y^2<1.$"
   ]
  },
  {
   "cell_type": "code",
   "execution_count": 234,
   "metadata": {
    "nbpresent": {
     "id": "7b993cc6-c704-4304-abba-dac8ccc3a876"
    },
    "slideshow": {
     "slide_type": "slide"
    }
   },
   "outputs": [],
   "source": [
    "#tvoje riesenie\n"
   ]
  },
  {
   "cell_type": "code",
   "execution_count": 236,
   "metadata": {
    "nbpresent": {
     "id": "d0c9767f-0252-473b-84c3-137f9e3e9138"
    },
    "slideshow": {
     "slide_type": "slide"
    }
   },
   "outputs": [
    {
     "data": {
      "text/plain": [
       "3.14768"
      ]
     },
     "execution_count": 236,
     "metadata": {},
     "output_type": "execute_result"
    }
   ],
   "source": [
    "NumIn/NOP*4"
   ]
  },
  {
   "cell_type": "markdown",
   "metadata": {},
   "source": [
    "# Numerické sčítavanie\n",
    "\n",
    "Vo fyzike je často užitočné rozdeliť si problém na malé časti.\n"
   ]
  },
  {
   "cell_type": "markdown",
   "metadata": {},
   "source": [
    "## Úloha 9\n",
    "Teraz je vašou úlohou vymyslieť ako spočítať gravitačné pole od jednorozmernej usečky o výške h nad stredom úsečky.\n",
    " Úsečka má hmotnosť  $M$ a dĺžku $L$. \n",
    "![Image of usecka](http://fks.sk/~fero/usecka.png)\n",
    "Usecku si rozdelíte na $N$ malých dielov. Hmotnost jedného takého dieliku je potom   \n",
    "$$dm=\\frac{M}{N}$$\n",
    "\n",
    "Vzdialenosť takéhoto bodu od stedu úsečky $x$.\n",
    "Potom gravitačná pole od toho malého kúsku v žiadanom bode je:\n",
    "$$\\vec{\\Delta g}=-G \\frac{\\Delta m}{r^3}\\vec{r}.$$\n",
    "Rozdrobené na $y$-ovú a $x$-ovú zložku:\n",
    "$$\\Delta g_y=-G \\frac{\\Delta m}{(x^2+h^2)}\\cos(\\phi)=-G \\frac{\\Delta m}{(x^2+h^2)}\\frac{h}{\\sqrt{x^2=h^2}},$$\n",
    "respektíve \n",
    "$$\\Delta g_x=-G \\frac{\\Delta m}{(x^2+h^2)}\\sin(\\phi)=-G \\frac{\\Delta m}{(x^2+h^2)}\\frac{x}{\\sqrt{x^2+h^2}},$$\n",
    "Vašou úlohou je rozdeliť takúto úsečku a sčítať príspevky od všetkých malých kúskov. Premyslite si že kedže sme v strede úsečky, $x$-ové príspevky sa navzájom vynulujú.\n",
    "Ak vám to príde príliš jednoduché, tak možte naprogramovať program ktorých spočíta gravitačné pole nad lubovoľným bodom\n",
    "\n"
   ]
  },
  {
   "cell_type": "code",
   "execution_count": 77,
   "metadata": {},
   "outputs": [
    {
     "data": {
      "text/plain": [
       "-2.3877914507634306e-11"
      ]
     },
     "execution_count": 77,
     "metadata": {},
     "output_type": "execute_result"
    }
   ],
   "source": [
    "\n",
    "#tvoje riesenie\n",
    "\n",
    "\n",
    "\n",
    "\n"
   ]
  },
  {
   "cell_type": "markdown",
   "metadata": {},
   "source": [
    "# Obiehanie Zeme okolo Slnka\n",
    "\n",
    "Fyziku (dúfam!) všetci poznáme.\n",
    "\n",
    "* gravitačná sila:\n",
    "$$ \\mathbf F(\\mathbf r) = -\\frac{G m M}{r^3} \\mathbf r $$\n",
    "\n",
    "### Eulerov algoritmus (zlý)\n",
    "$$\\begin{align}\n",
    "a(t) &= F(t)/m \\\\\n",
    "v(t+dt) &= v(t) + a(t) dt \\\\\n",
    "x(t+dt) &= x(t) + v(t) dt \\\\\n",
    "\\end{align}$$\n",
    "\n",
    "### Verletov algoritmus (dobrý)\n",
    "$$ x(t+dt) = 2 x(t) - x(t-dt) + a(t) dt^2 $$"
   ]
  },
  {
   "cell_type": "code",
   "execution_count": null,
   "metadata": {},
   "outputs": [],
   "source": [
    "from numpy.linalg import norm\n",
    "\n",
    "G = 6.67e-11\n",
    "Ms = 2e30\n",
    "Mz = 6e24\n",
    "dt = 86400.0\n",
    "N = int(365*86400.0/dt)\n",
    "#print(N)\n",
    "\n",
    "R0 = 1.5e11\n",
    "r_list = np.zeros((N, 2))\n",
    "r_list[0] = [R0, 0.0]     # mozno miesat listy s ndarray\n",
    "\n",
    "v0 = 29.7e3\n",
    "v_list = np.zeros((N, 2))\n",
    "v_list[0] = [0.0, v0]\n",
    "\n",
    "# sila medzi planetami\n",
    "def force(A, r):\n",
    "    return -A / norm(r)**3 * r\n",
    "\n",
    "# Verletova integracia\n",
    "def verlet_step(r_n, r_nm1, a, dt):  # r_nm1 -- r n minus 1\n",
    "    return 2*r_n - r_nm1 + a*dt**2\n",
    "\n",
    "# prvy krok je specialny\n",
    "a = force(G*Ms, r_list[0])\n",
    "r_list[1] = r_list[0] + v_list[0]*dt + a*dt**2/2\n",
    "\n",
    "\n",
    "# riesenie pohybovych rovnic\n",
    "for i in range(2, N):\n",
    "    a = force(G*Ms, r_list[i-1])\n",
    "    r_list[i] = verlet_step(r_list[i-1], r_list[i-2], a, dt)\n",
    "    \n",
    "    \n",
    "plt.plot(r_list[:, 0], r_list[:, 1])\n",
    "plt.xlim([-2e11, 2e11])\n",
    "plt.ylim([-2e11, 2e11])\n",
    "plt.xlabel(\"$x$\", fontsize=20)\n",
    "plt.ylabel(\"$y$\", fontsize=20)\n",
    "plt.gca().set_aspect('equal', adjustable='box')\n",
    "#plt.axis(\"equal\")\n",
    "plt.show()"
   ]
  },
  {
   "cell_type": "markdown",
   "metadata": {},
   "source": [
    "## Pridajme Mesiac"
   ]
  },
  {
   "cell_type": "code",
   "execution_count": null,
   "metadata": {},
   "outputs": [],
   "source": [
    "Mm = 7.3e22\n",
    "R0m = R0 + 384e6\n",
    "v0m = v0 + 1e3\n",
    "rm_list = np.zeros((N, 2))\n",
    "rm_list[0] = [R0m, 0.0]\n",
    "vm_list = np.zeros((N, 2))\n",
    "vm_list[0] = [0.0, v0m]\n",
    "\n",
    "# prvy Verletov krok\n",
    "am = force(G*Ms, rm_list[0]) + force(G*Mz, rm_list[0] - r_list[0])\n",
    "rm_list[1] = rm_list[0] + vm_list[0]*dt + am*dt**2/2\n",
    "\n",
    "# riesenie pohybovych rovnic\n",
    "for i in range(2, N):\n",
    "    a = force(G*Ms, r_list[i-1]) - force(G*Mm, rm_list[i-1]-r_list[i-1])\n",
    "    am = force(G*Ms, rm_list[i-1]) + force(G*Mz, rm_list[i-1]-r_list[i-1])\n",
    "    r_list[i] = verlet_step(r_list[i-1], r_list[i-2], a, dt)\n",
    "    rm_list[i] = verlet_step(rm_list[i-1], rm_list[i-2], am, dt)\n",
    "    \n",
    "plt.plot(r_list[:, 0], r_list[:, 1])\n",
    "plt.plot(rm_list[:, 0], rm_list[:, 1])\n",
    "plt.xlabel(\"$x$\", fontsize=20)\n",
    "plt.ylabel(\"$y$\", fontsize=20)\n",
    "plt.gca().set_aspect('equal', adjustable='box')\n",
    "plt.xlim([-2e11, 2e11])\n",
    "plt.ylim([-2e11, 2e11])\n",
    "plt.show()         # mesiac moc nevidno, ale vieme, ze tam je"
   ]
  },
  {
   "cell_type": "markdown",
   "metadata": {
    "collapsed": true
   },
   "source": [
    "## Úloha pre Vás: Treba pridať Mars :)\n",
    "Pridajte Mars!"
   ]
  },
  {
   "cell_type": "markdown",
   "metadata": {},
   "source": [
    "## Matematické kyvadlo s odporom \n",
    "Nasimulujte matematické kyvadlo s odporom $\\gamma$,\n",
    "$$ \\ddot \\theta = -\\frac g l \\sin\\theta -\\gamma \\theta^2,$$\n",
    "za pomoci metódy `odeint`.\n",
    "\n",
    "Alebo pád telesa v odporovom prostredí:\n",
    "$$ a = -g - kv^2.$$"
   ]
  },
  {
   "cell_type": "code",
   "execution_count": null,
   "metadata": {},
   "outputs": [],
   "source": [
    "from scipy.integrate import odeint\n",
    "\n",
    "def F(y, t, g, k):\n",
    "    return [y[1], g -k*y[1]**2]\n",
    "\n",
    "N = 101\n",
    "k = 1.0\n",
    "g = 10.0\n",
    "t = np.linspace(0, 1, N)\n",
    "y0 = [0.0, 0.0]\n",
    "y = odeint(F, y0, t, args=(g, k))\n",
    "\n",
    "plt.plot(t, y[:, 1])\n",
    "plt.xlabel(\"$t$\", fontsize=20)\n",
    "plt.ylabel(\"$v(t)$\", fontsize=20)\n",
    "plt.show()"
   ]
  },
  {
   "cell_type": "markdown",
   "metadata": {},
   "source": [
    "## Harmonický oscilátor pomocou metódy Leapfrog (modifikácia Verletovho algoritmu)"
   ]
  },
  {
   "cell_type": "code",
   "execution_count": 160,
   "metadata": {},
   "outputs": [
    {
     "ename": "NameError",
     "evalue": "name 'linspace' is not defined",
     "output_type": "error",
     "traceback": [
      "\u001b[0;31m---------------------------------------------------------------------------\u001b[0m",
      "\u001b[0;31mNameError\u001b[0m                                 Traceback (most recent call last)",
      "\u001b[0;32m<ipython-input-160-f81ef32d8943>\u001b[0m in \u001b[0;36m<module>\u001b[0;34m()\u001b[0m\n\u001b[1;32m      1\u001b[0m \u001b[0mN\u001b[0m \u001b[0;34m=\u001b[0m \u001b[0;36m10000\u001b[0m\u001b[0;34m\u001b[0m\u001b[0m\n\u001b[0;32m----> 2\u001b[0;31m \u001b[0mt\u001b[0m \u001b[0;34m=\u001b[0m \u001b[0mlinspace\u001b[0m\u001b[0;34m(\u001b[0m\u001b[0;36m0\u001b[0m\u001b[0;34m,\u001b[0m\u001b[0;36m100\u001b[0m\u001b[0;34m,\u001b[0m\u001b[0mN\u001b[0m\u001b[0;34m)\u001b[0m\u001b[0;34m\u001b[0m\u001b[0m\n\u001b[0m\u001b[1;32m      3\u001b[0m \u001b[0mdt\u001b[0m \u001b[0;34m=\u001b[0m \u001b[0mt\u001b[0m\u001b[0;34m[\u001b[0m\u001b[0;36m1\u001b[0m\u001b[0;34m]\u001b[0m \u001b[0;34m-\u001b[0m \u001b[0mt\u001b[0m\u001b[0;34m[\u001b[0m\u001b[0;36m0\u001b[0m\u001b[0;34m]\u001b[0m\u001b[0;34m\u001b[0m\u001b[0m\n\u001b[1;32m      4\u001b[0m \u001b[0;34m\u001b[0m\u001b[0m\n\u001b[1;32m      5\u001b[0m \u001b[0;31m# Funkcie\u001b[0m\u001b[0;34m\u001b[0m\u001b[0;34m\u001b[0m\u001b[0m\n",
      "\u001b[0;31mNameError\u001b[0m: name 'linspace' is not defined"
     ]
    }
   ],
   "source": [
    "N = 10000\n",
    "t = linspace(0,100,N)\n",
    "dt = t[1] - t[0]\n",
    "\n",
    "# Funkcie\n",
    "def integrate(F,x0,v0,gamma):\n",
    "    x = zeros(N)\n",
    "    v = zeros(N)\n",
    "    E = zeros(N)    \n",
    "    \n",
    "    # Počiatočné podmienky\n",
    "    x[0] = x0\n",
    "    v[0] = v0\n",
    "    \n",
    "    # Integrovanie rovníc pomocou metódy Leapfrog (wiki)\n",
    "    fac1 = 1.0 - 0.5*gamma*dt\n",
    "    fac2 = 1.0/(1.0 + 0.5*gamma*dt)\n",
    "    \n",
    "    for i in range(N-1):\n",
    "         v[i + 1] = fac1*fac2*v[i] - fac2*dt*x[i] + fac2*dt*F[i]\n",
    "         x[i + 1] = x[i] + dt*v[i + 1]\n",
    "         E[i] += 0.5*(x[i]**2 + ((v[i] + v[i+1])/2.0)**2)\n",
    "    \n",
    "    E[-1] = 0.5*(x[-1]**2 + v[-1]**2)\n",
    "    \n",
    "    # Vrátime riešenie\n",
    "    return x,v,E"
   ]
  },
  {
   "cell_type": "code",
   "execution_count": 161,
   "metadata": {},
   "outputs": [
    {
     "ename": "NameError",
     "evalue": "name 'zeros' is not defined",
     "output_type": "error",
     "traceback": [
      "\u001b[0;31m---------------------------------------------------------------------------\u001b[0m",
      "\u001b[0;31mNameError\u001b[0m                                 Traceback (most recent call last)",
      "\u001b[0;32m<ipython-input-161-cca97b5db113>\u001b[0m in \u001b[0;36m<module>\u001b[0;34m()\u001b[0m\n\u001b[1;32m      1\u001b[0m \u001b[0;31m# Pozrime sa na tri rôzne počiatočné podmienky\u001b[0m\u001b[0;34m\u001b[0m\u001b[0;34m\u001b[0m\u001b[0m\n\u001b[0;32m----> 2\u001b[0;31m \u001b[0mF\u001b[0m \u001b[0;34m=\u001b[0m \u001b[0mzeros\u001b[0m\u001b[0;34m(\u001b[0m\u001b[0mN\u001b[0m\u001b[0;34m)\u001b[0m\u001b[0;34m\u001b[0m\u001b[0m\n\u001b[0m\u001b[1;32m      3\u001b[0m \u001b[0mx1\u001b[0m\u001b[0;34m,\u001b[0m\u001b[0mv1\u001b[0m\u001b[0;34m,\u001b[0m\u001b[0mE1\u001b[0m \u001b[0;34m=\u001b[0m \u001b[0mintegrate\u001b[0m\u001b[0;34m(\u001b[0m\u001b[0mF\u001b[0m\u001b[0;34m,\u001b[0m\u001b[0;36m0.0\u001b[0m\u001b[0;34m,\u001b[0m\u001b[0;36m1.0\u001b[0m\u001b[0;34m,\u001b[0m\u001b[0;36m0.0\u001b[0m\u001b[0;34m)\u001b[0m \u001b[0;31m# x0 = 0.0, v0 = 1.0, gamma = 0.0\u001b[0m\u001b[0;34m\u001b[0m\u001b[0m\n\u001b[1;32m      4\u001b[0m \u001b[0mx2\u001b[0m\u001b[0;34m,\u001b[0m\u001b[0mv2\u001b[0m\u001b[0;34m,\u001b[0m\u001b[0mE2\u001b[0m \u001b[0;34m=\u001b[0m \u001b[0mintegrate\u001b[0m\u001b[0;34m(\u001b[0m\u001b[0mF\u001b[0m\u001b[0;34m,\u001b[0m\u001b[0;36m0.0\u001b[0m\u001b[0;34m,\u001b[0m\u001b[0;36m1.0\u001b[0m\u001b[0;34m,\u001b[0m\u001b[0;36m0.05\u001b[0m\u001b[0;34m)\u001b[0m \u001b[0;31m# x0 = 0.0, v0 = 1.0, gamma = 0.01\u001b[0m\u001b[0;34m\u001b[0m\u001b[0m\n\u001b[1;32m      5\u001b[0m \u001b[0mx3\u001b[0m\u001b[0;34m,\u001b[0m\u001b[0mv3\u001b[0m\u001b[0;34m,\u001b[0m\u001b[0mE3\u001b[0m \u001b[0;34m=\u001b[0m \u001b[0mintegrate\u001b[0m\u001b[0;34m(\u001b[0m\u001b[0mF\u001b[0m\u001b[0;34m,\u001b[0m\u001b[0;36m0.0\u001b[0m\u001b[0;34m,\u001b[0m\u001b[0;36m1.0\u001b[0m\u001b[0;34m,\u001b[0m\u001b[0;36m0.4\u001b[0m\u001b[0;34m)\u001b[0m \u001b[0;31m# x0 = 0.0, v0 = 1.0, gamma = 0.5\u001b[0m\u001b[0;34m\u001b[0m\u001b[0m\n",
      "\u001b[0;31mNameError\u001b[0m: name 'zeros' is not defined"
     ]
    }
   ],
   "source": [
    "# Pozrime sa na tri rôzne počiatočné podmienky\n",
    "F = zeros(N)\n",
    "x1,v1,E1 = integrate(F,0.0,1.0,0.0) # x0 = 0.0, v0 = 1.0, gamma = 0.0\n",
    "x2,v2,E2 = integrate(F,0.0,1.0,0.05) # x0 = 0.0, v0 = 1.0, gamma = 0.01\n",
    "x3,v3,E3 = integrate(F,0.0,1.0,0.4) # x0 = 0.0, v0 = 1.0, gamma = 0.5\n",
    "\n",
    "# Nakreslime si grafy\n",
    "\n",
    "plt.rcParams[\"axes.grid\"] = True\n",
    "plt.rcParams['font.size'] = 14\n",
    "plt.rcParams['axes.labelsize'] = 18\n",
    "plt.figure()\n",
    "plt.subplot(211)\n",
    "plt.plot(t,x1)\n",
    "plt.plot(t,x2)\n",
    "plt.plot(t,x3)\n",
    "plt.ylabel(\"x(t)\")\n",
    "\n",
    "plt.subplot(212)\n",
    "plt.plot(t,E1,label=r\"$\\gamma = 0.0$\")\n",
    "plt.plot(t,E2,label=r\"$\\gamma = 0.01$\")\n",
    "plt.plot(t,E3,label=r\"$\\gamma = 0.5$\")\n",
    "plt.ylim(0,0.55)\n",
    "plt.ylabel(\"E(t)\")\n",
    "\n",
    "plt.xlabel(\"Čas\")\n",
    "plt.legend(loc=\"center right\")\n",
    "\n",
    "plt.tight_layout()"
   ]
  },
  {
   "cell_type": "markdown",
   "metadata": {},
   "source": [
    "A čo ak bude oscilátor aj tlmenný?"
   ]
  },
  {
   "cell_type": "code",
   "execution_count": null,
   "metadata": {},
   "outputs": [],
   "source": [
    "def force(f0,t,w,T):\n",
    "          return f0*cos(w*t)*exp(-t**2/T**2) \n",
    "\n",
    "F1 = zeros(N)\n",
    "F2 = zeros(N)\n",
    "F3 = zeros(N)\n",
    "for i in range(N-1):\n",
    "    F1[i] = force(1.0,t[i] - 20.0,1.0,10.0)\n",
    "    F2[i] = force(1.0,t[i] - 20.0,0.9,10.0)\n",
    "    F3[i] = force(1.0,t[i] - 20.0,0.8,10.0)"
   ]
  },
  {
   "cell_type": "code",
   "execution_count": 159,
   "metadata": {},
   "outputs": [
    {
     "ename": "NameError",
     "evalue": "name 'integrate' is not defined",
     "output_type": "error",
     "traceback": [
      "\u001b[0;31m---------------------------------------------------------------------------\u001b[0m",
      "\u001b[0;31mNameError\u001b[0m                                 Traceback (most recent call last)",
      "\u001b[0;32m<ipython-input-159-ec2277f417e2>\u001b[0m in \u001b[0;36m<module>\u001b[0;34m()\u001b[0m\n\u001b[0;32m----> 1\u001b[0;31m \u001b[0mx1\u001b[0m\u001b[0;34m,\u001b[0m\u001b[0mv1\u001b[0m\u001b[0;34m,\u001b[0m\u001b[0mE1\u001b[0m \u001b[0;34m=\u001b[0m \u001b[0mintegrate\u001b[0m\u001b[0;34m(\u001b[0m\u001b[0mF1\u001b[0m\u001b[0;34m,\u001b[0m\u001b[0;36m0.0\u001b[0m\u001b[0;34m,\u001b[0m\u001b[0;36m0.0\u001b[0m\u001b[0;34m,\u001b[0m\u001b[0;36m0.0\u001b[0m\u001b[0;34m)\u001b[0m\u001b[0;34m\u001b[0m\u001b[0m\n\u001b[0m\u001b[1;32m      2\u001b[0m \u001b[0mx2\u001b[0m\u001b[0;34m,\u001b[0m\u001b[0mv2\u001b[0m\u001b[0;34m,\u001b[0m\u001b[0mE2\u001b[0m \u001b[0;34m=\u001b[0m \u001b[0mintegrate\u001b[0m\u001b[0;34m(\u001b[0m\u001b[0mF1\u001b[0m\u001b[0;34m,\u001b[0m\u001b[0;36m0.0\u001b[0m\u001b[0;34m,\u001b[0m\u001b[0;36m0.0\u001b[0m\u001b[0;34m,\u001b[0m\u001b[0;36m0.01\u001b[0m\u001b[0;34m)\u001b[0m\u001b[0;34m\u001b[0m\u001b[0m\n\u001b[1;32m      3\u001b[0m \u001b[0mx3\u001b[0m\u001b[0;34m,\u001b[0m\u001b[0mv3\u001b[0m\u001b[0;34m,\u001b[0m\u001b[0mE3\u001b[0m \u001b[0;34m=\u001b[0m \u001b[0mintegrate\u001b[0m\u001b[0;34m(\u001b[0m\u001b[0mF1\u001b[0m\u001b[0;34m,\u001b[0m\u001b[0;36m0.0\u001b[0m\u001b[0;34m,\u001b[0m\u001b[0;36m0.0\u001b[0m\u001b[0;34m,\u001b[0m\u001b[0;36m0.1\u001b[0m\u001b[0;34m)\u001b[0m\u001b[0;34m\u001b[0m\u001b[0m\n\u001b[1;32m      4\u001b[0m \u001b[0;34m\u001b[0m\u001b[0m\n\u001b[1;32m      5\u001b[0m \u001b[0mplt\u001b[0m\u001b[0;34m.\u001b[0m\u001b[0mfigure\u001b[0m\u001b[0;34m(\u001b[0m\u001b[0;34m)\u001b[0m\u001b[0;34m\u001b[0m\u001b[0m\n",
      "\u001b[0;31mNameError\u001b[0m: name 'integrate' is not defined"
     ]
    }
   ],
   "source": [
    "x1,v1,E1 = integrate(F1,0.0,0.0,0.0)\n",
    "x2,v2,E2 = integrate(F1,0.0,0.0,0.01)\n",
    "x3,v3,E3 = integrate(F1,0.0,0.0,0.1)\n",
    "\n",
    "plt.figure()\n",
    "plt.subplot(211)\n",
    "plt.plot(t,x1)\n",
    "plt.plot(t,x2)\n",
    "plt.plot(t,x3)\n",
    "plt.ylabel(\"x(t)\")\n",
    "\n",
    "plt.subplot(212)\n",
    "plt.plot(t,E1,label=r\"$\\gamma = 0$\")\n",
    "plt.plot(t,E2,label=r\"$\\gamma = 0.01$\")\n",
    "plt.plot(t,E3,label=r\"$\\gamma = 0.1$\")\n",
    "pt.ylabel(\"E(t)\")\n",
    "\n",
    "plt.xlabel(\"Time\")\n",
    "plt.rcParams['legend.fontsize'] = 14.0\n",
    "plt.legend(loc=\"upper left\")\n",
    "\n",
    "plt.show()"
   ]
  },
  {
   "cell_type": "code",
   "execution_count": null,
   "metadata": {},
   "outputs": [],
   "source": []
  }
 ],
 "metadata": {
  "anaconda-cloud": {},
  "kernelspec": {
   "display_name": "Python 3",
   "language": "python",
   "name": "python3"
  },
  "language_info": {
   "codemirror_mode": {
    "name": "ipython",
    "version": 3
   },
   "file_extension": ".py",
   "mimetype": "text/x-python",
   "name": "python",
   "nbconvert_exporter": "python",
   "pygments_lexer": "ipython3",
   "version": "3.6.5"
  }
 },
 "nbformat": 4,
 "nbformat_minor": 1
}
